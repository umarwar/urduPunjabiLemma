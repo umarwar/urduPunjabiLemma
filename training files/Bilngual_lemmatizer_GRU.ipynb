{
  "cells": [
    {
      "cell_type": "code",
      "execution_count": null,
      "id": "EI-e3bNkQ04V",
      "metadata": {
        "colab": {
          "base_uri": "https://localhost:8080/"
        },
        "id": "EI-e3bNkQ04V",
        "outputId": "e4cc137f-8cff-4f2c-9e8d-32685faa930a"
      },
      "outputs": [
        {
          "name": "stdout",
          "output_type": "stream",
          "text": [
            "Mounted at /content/gdrive\n"
          ]
        }
      ],
      "source": [
        "# prompt: mount gdrive\n",
        "\n",
        "from google.colab import drive\n",
        "drive.mount('/content/gdrive')\n"
      ]
    },
    {
      "cell_type": "code",
      "execution_count": null,
      "id": "cUlktBWJRAx7",
      "metadata": {
        "id": "cUlktBWJRAx7"
      },
      "outputs": [],
      "source": [
        "import numpy as np\n",
        "import pickle\n",
        "import pandas as pd\n",
        "import matplotlib.pyplot as plt\n",
        "from sklearn.manifold import TSNE\n",
        "from tensorflow.keras.optimizers import Adam\n",
        "from tensorflow.keras.models import Sequential\n",
        "from tensorflow.keras.preprocessing import sequence\n",
        "from tensorflow.keras.utils import to_categorical\n",
        "from sklearn.model_selection import train_test_split\n",
        "from tensorflow.keras.preprocessing.text import Tokenizer\n",
        "from tensorflow.keras.preprocessing.sequence import pad_sequences\n",
        "from tensorflow.keras.layers import Embedding, Dense, TimeDistributed, Activation,LSTM, GRU"
      ]
    },
    {
      "cell_type": "code",
      "execution_count": null,
      "id": "c6fe103d",
      "metadata": {
        "colab": {
          "base_uri": "https://localhost:8080/"
        },
        "id": "c6fe103d",
        "outputId": "8ddde59e-0315-43d3-c394-480e241bc3d8"
      },
      "outputs": [
        {
          "name": "stderr",
          "output_type": "stream",
          "text": [
            "IOPub data rate exceeded.\n",
            "The notebook server will temporarily stop sending output\n",
            "to the client in order to avoid crashing it.\n",
            "To change this limit, set the config variable\n",
            "`--NotebookApp.iopub_data_rate_limit`.\n",
            "\n",
            "Current values:\n",
            "NotebookApp.iopub_data_rate_limit=1000000.0 (bytes/sec)\n",
            "NotebookApp.rate_limit_window=3.0 (secs)\n",
            "\n"
          ]
        }
      ],
      "source": [
        "# Read data from CSV file (assuming 'word' and 'lemma' columns)\n",
        "df = pd.read_csv('/content/gdrive/MyDrive/FYP/shuffled_dataset.csv')\n",
        "\n",
        "word_to_lemma = list(zip(df['Word'], df['Lemma']))\n",
        "\n",
        "print(word_to_lemma)\n",
        "\n",
        "train_set, test_set = train_test_split(word_to_lemma,\n",
        "                                       test_size=0.2)\n",
        "print(len(train_set), len(test_set))"
      ]
    },
    {
      "cell_type": "code",
      "execution_count": null,
      "id": "e601f17a",
      "metadata": {
        "id": "e601f17a"
      },
      "outputs": [],
      "source": [
        "words = [n for (n, l) in train_set] ## X\n",
        "lemmas = [l for (n, l) in train_set] ## y"
      ]
    },
    {
      "cell_type": "code",
      "execution_count": null,
      "id": "fa59acba",
      "metadata": {
        "id": "fa59acba"
      },
      "outputs": [],
      "source": [
        "tokenizer = Tokenizer(char_level=True)\n",
        "tokenizer.fit_on_texts(words)\n",
        "tokenizer.fit_on_texts(lemmas)"
      ]
    },
    {
      "cell_type": "code",
      "execution_count": null,
      "id": "322e317b",
      "metadata": {
        "colab": {
          "base_uri": "https://localhost:8080/"
        },
        "id": "322e317b",
        "outputId": "53fb2ca5-331a-4ade-c521-5b0da218293b"
      },
      "outputs": [
        {
          "name": "stdout",
          "output_type": "stream",
          "text": [
            "Vocabulary Size: 54\n"
          ]
        }
      ],
      "source": [
        "# determine the vocabulary size\n",
        "vocab_size = len(tokenizer.word_index) + 1\n",
        "print('Vocabulary Size: %d' % vocab_size)"
      ]
    },
    {
      "cell_type": "code",
      "execution_count": null,
      "id": "4ac2e86c",
      "metadata": {
        "colab": {
          "base_uri": "https://localhost:8080/"
        },
        "id": "4ac2e86c",
        "outputId": "288ba08f-3ab0-4dd2-f0e8-435f095d4735"
      },
      "outputs": [
        {
          "data": {
            "text/plain": [
              "{'ا': 1,\n",
              " 'و': 2,\n",
              " 'ی': 3,\n",
              " 'ن': 4,\n",
              " 'ر': 5,\n",
              " 'ک': 6,\n",
              " 'ل': 7,\n",
              " 'ھ': 8,\n",
              " 'ت': 9,\n",
              " 'د': 10,\n",
              " 'م': 11,\n",
              " 'س': 12,\n",
              " 'ب': 13,\n",
              " 'ں': 14,\n",
              " 'پ': 15,\n",
              " 'ٹ': 16,\n",
              " 'چ': 17,\n",
              " 'گ': 18,\n",
              " 'ج': 19,\n",
              " 'ہ': 20,\n",
              " 'ے': 21,\n",
              " 'ڑ': 22,\n",
              " 'ئ': 23,\n",
              " 'ڈ': 24,\n",
              " 'ش': 25,\n",
              " 'ف': 26,\n",
              " 'ق': 27,\n",
              " 'ُ': 28,\n",
              " 'خ': 29,\n",
              " 'ح': 30,\n",
              " 'ع': 31,\n",
              " 'ز': 32,\n",
              " 'ص': 33,\n",
              " 'ط': 34,\n",
              " 'ِ': 35,\n",
              " 'آ': 36,\n",
              " 'ؤ': 37,\n",
              " 'غ': 38,\n",
              " 'ض': 39,\n",
              " 'َ': 40,\n",
              " 'ٗ': 41,\n",
              " 'ث': 42,\n",
              " 'ذ': 43,\n",
              " 'ظ': 44,\n",
              " 'ٔ': 45,\n",
              " 'ً': 46,\n",
              " 'ء': 47,\n",
              " 'ٰ': 48,\n",
              " 'ّ': 49,\n",
              " 'ژ': 50,\n",
              " 'ۓ': 51,\n",
              " 'ؔ': 52,\n",
              " 'ۃ': 53}"
            ]
          },
          "execution_count": 7,
          "metadata": {},
          "output_type": "execute_result"
        }
      ],
      "source": [
        "tokenizer.word_index"
      ]
    },
    {
      "cell_type": "code",
      "execution_count": null,
      "id": "576393c1",
      "metadata": {
        "id": "576393c1"
      },
      "outputs": [],
      "source": [
        "words_ints = tokenizer.texts_to_sequences(words)\n",
        "lemmas_ints = tokenizer.texts_to_sequences(lemmas)\n"
      ]
    },
    {
      "cell_type": "code",
      "execution_count": null,
      "id": "9d4fa683",
      "metadata": {
        "colab": {
          "base_uri": "https://localhost:8080/"
        },
        "id": "9d4fa683",
        "outputId": "35849c68-62e0-4320-8d14-e4c6b555d3a8"
      },
      "outputs": [
        {
          "name": "stdout",
          "output_type": "stream",
          "text": [
            "['ناشتے', 'رکھئیں', 'گہرا', 'توریں', 'ٹوئڈ']\n",
            "[[4, 1, 25, 9, 21], [5, 6, 8, 23, 3, 14], [18, 20, 5, 1], [9, 2, 5, 3, 14], [16, 2, 23, 24]]\n",
            "['ناشتا', 'رکھ', 'گہرا', 'تور', 'ٹوئڈ']\n",
            "[[4, 1, 25, 9, 1], [5, 6, 8], [18, 20, 5, 1], [9, 2, 5], [16, 2, 23, 24]]\n"
          ]
        }
      ],
      "source": [
        "print(words[:5])\n",
        "print(words_ints[:5])\n",
        "print(lemmas[:5])\n",
        "print(lemmas_ints[:5])"
      ]
    },
    {
      "cell_type": "code",
      "execution_count": null,
      "id": "2ebb7fd0",
      "metadata": {
        "colab": {
          "base_uri": "https://localhost:8080/",
          "height": 523
        },
        "id": "2ebb7fd0",
        "outputId": "68b8202b-2f3b-4e31-8619-495a7ae4c954"
      },
      "outputs": [
        {
          "name": "stdout",
          "output_type": "stream",
          "text": [
            "اسلامآبادیوندیاں\n"
          ]
        },
        {
          "data": {
            "image/png": "[encoded data removed]",
            "text/plain": [
              "<Figure size 500x500 with 1 Axes>"
            ]
          },
          "metadata": {},
          "output_type": "display_data"
        }
      ],
      "source": [
        "import seaborn as sns\n",
        "\n",
        "## We can check the length distribution of texts in corpus\n",
        "\n",
        "words_lens = [len(n) for n in words_ints]\n",
        "words_lens\n",
        "\n",
        "sns.displot(words_lens)\n",
        "print(words[np.argmax(words_lens)])  # longest name"
      ]
    },
    {
      "cell_type": "code",
      "execution_count": null,
      "id": "cffc39d5",
      "metadata": {
        "colab": {
          "base_uri": "https://localhost:8080/"
        },
        "id": "cffc39d5",
        "outputId": "62b1ee7b-4c2c-4d07-be50-8452d87d8610"
      },
      "outputs": [
        {
          "name": "stdout",
          "output_type": "stream",
          "text": [
            "Maximum Sequence Length: 16\n"
          ]
        }
      ],
      "source": [
        "max_len = max(len(seq) for seq in words_ints)\n",
        "print('Maximum Sequence Length:', max_len)"
      ]
    },
    {
      "cell_type": "code",
      "execution_count": null,
      "id": "7c1fe162",
      "metadata": {
        "colab": {
          "base_uri": "https://localhost:8080/"
        },
        "id": "7c1fe162",
        "outputId": "d596b2c8-dd0b-489e-b3a6-dfaa96ae17a3"
      },
      "outputs": [
        {
          "data": {
            "text/plain": [
              "array([[ 4,  1, 25,  9, 21,  0,  0,  0,  0,  0,  0,  0,  0,  0,  0,  0],\n",
              "       [ 5,  6,  8, 23,  3, 14,  0,  0,  0,  0,  0,  0,  0,  0,  0,  0],\n",
              "       [18, 20,  5,  1,  0,  0,  0,  0,  0,  0,  0,  0,  0,  0,  0,  0],\n",
              "       [ 9,  2,  5,  3, 14,  0,  0,  0,  0,  0,  0,  0,  0,  0,  0,  0],\n",
              "       [16,  2, 23, 24,  0,  0,  0,  0,  0,  0,  0,  0,  0,  0,  0,  0],\n",
              "       [20, 22, 13, 22,  1, 23, 21,  0,  0,  0,  0,  0,  0,  0,  0,  0],\n",
              "       [ 4, 19,  8,  2, 16,  3, 14,  0,  0,  0,  0,  0,  0,  0,  0,  0],\n",
              "       [17,  3, 29,  4,  1,  0,  0,  0,  0,  0,  0,  0,  0,  0,  0,  0],\n",
              "       [ 9,  7, 38,  5,  1, 26,  2, 14,  0,  0,  0,  0,  0,  0,  0,  0],\n",
              "       [ 1, 26,  5,  3, 27,  3,  0,  0,  0,  0,  0,  0,  0,  0,  0,  0]],\n",
              "      dtype=int32)"
            ]
          },
          "execution_count": 12,
          "metadata": {},
          "output_type": "execute_result"
        }
      ],
      "source": [
        "words_ints_pad = sequence.pad_sequences(words_ints, maxlen=max_len,padding='post')\n",
        "words_ints_pad[:10]"
      ]
    },
    {
      "cell_type": "code",
      "execution_count": null,
      "id": "9abcae67",
      "metadata": {
        "colab": {
          "base_uri": "https://localhost:8080/"
        },
        "id": "9abcae67",
        "outputId": "6647530d-ff77-415f-a737-99fefa561da0"
      },
      "outputs": [
        {
          "data": {
            "text/plain": [
              "array([[ 4,  1, 25,  9,  1,  0,  0,  0,  0,  0,  0,  0,  0,  0,  0,  0],\n",
              "       [ 5,  6,  8,  0,  0,  0,  0,  0,  0,  0,  0,  0,  0,  0,  0,  0],\n",
              "       [18, 20,  5,  1,  0,  0,  0,  0,  0,  0,  0,  0,  0,  0,  0,  0],\n",
              "       [ 9,  2,  5,  0,  0,  0,  0,  0,  0,  0,  0,  0,  0,  0,  0,  0],\n",
              "       [16,  2, 23, 24,  0,  0,  0,  0,  0,  0,  0,  0,  0,  0,  0,  0],\n",
              "       [20, 22, 13, 22,  1,  0,  0,  0,  0,  0,  0,  0,  0,  0,  0,  0],\n",
              "       [ 4, 19,  8,  2, 16,  0,  0,  0,  0,  0,  0,  0,  0,  0,  0,  0],\n",
              "       [17,  3, 29,  0,  0,  0,  0,  0,  0,  0,  0,  0,  0,  0,  0,  0],\n",
              "       [ 9,  7, 38,  5,  1, 26,  0,  0,  0,  0,  0,  0,  0,  0,  0,  0],\n",
              "       [ 1, 26,  5,  3, 27,  3,  0,  0,  0,  0,  0,  0,  0,  0,  0,  0]],\n",
              "      dtype=int32)"
            ]
          },
          "execution_count": 13,
          "metadata": {},
          "output_type": "execute_result"
        }
      ],
      "source": [
        "lemmas_ints_pad = sequence.pad_sequences(lemmas_ints, maxlen=max_len,padding='post')\n",
        "lemmas_ints_pad[:10]"
      ]
    },
    {
      "cell_type": "code",
      "execution_count": null,
      "id": "a78d1748",
      "metadata": {
        "id": "a78d1748"
      },
      "outputs": [],
      "source": [
        "X_train = np.array(words_ints_pad).astype('int32')\n",
        "y_train = np.array(lemmas_ints_pad).astype('int32')"
      ]
    },
    {
      "cell_type": "code",
      "execution_count": null,
      "id": "fa99b78e",
      "metadata": {
        "colab": {
          "base_uri": "https://localhost:8080/"
        },
        "id": "fa99b78e",
        "outputId": "5443e931-6691-4b2a-9164-3320ec3f95ab"
      },
      "outputs": [
        {
          "name": "stdout",
          "output_type": "stream",
          "text": [
            "(89660, 16)\n",
            "(89660, 16)\n"
          ]
        }
      ],
      "source": [
        "print(X_train.shape)\n",
        "print(y_train.shape)\n",
        "# print(X_test.shape)\n",
        "# print(y_test.shape)"
      ]
    },
    {
      "cell_type": "code",
      "execution_count": null,
      "id": "bbf80675",
      "metadata": {
        "colab": {
          "base_uri": "https://localhost:8080/"
        },
        "id": "bbf80675",
        "outputId": "b6a4041a-3382-4bc1-ae4c-ba29e08a0649"
      },
      "outputs": [
        {
          "name": "stdout",
          "output_type": "stream",
          "text": [
            "(89660, 54)\n"
          ]
        }
      ],
      "source": [
        "words_matrix = tokenizer.texts_to_matrix(words, mode=\"binary\")\n",
        "print(words_matrix.shape)"
      ]
    },
    {
      "cell_type": "code",
      "execution_count": null,
      "id": "acb2de76",
      "metadata": {
        "colab": {
          "base_uri": "https://localhost:8080/"
        },
        "id": "acb2de76",
        "outputId": "2a9edbbc-c176-4cf5-f545-433d6ca0d8e3"
      },
      "outputs": [
        {
          "name": "stdout",
          "output_type": "stream",
          "text": [
            "(89660, 54)\n"
          ]
        }
      ],
      "source": [
        "lemmas_matrix = tokenizer.texts_to_matrix(lemmas, mode=\"binary\")\n",
        "print(lemmas_matrix.shape)"
      ]
    },
    {
      "cell_type": "code",
      "execution_count": null,
      "id": "46d3b892",
      "metadata": {
        "colab": {
          "base_uri": "https://localhost:8080/"
        },
        "id": "46d3b892",
        "outputId": "6e579921-5377-490c-99aa-720c82732a7d"
      },
      "outputs": [
        {
          "name": "stdout",
          "output_type": "stream",
          "text": [
            "گہرا\n",
            "[0. 1. 0. 0. 0. 1. 0. 0. 0. 0. 0. 0. 0. 0. 0. 0. 0. 0. 1. 0. 1. 0. 0. 0.\n",
            " 0. 0. 0. 0. 0. 0. 0. 0. 0. 0. 0. 0. 0. 0. 0. 0. 0. 0. 0. 0. 0. 0. 0. 0.\n",
            " 0. 0. 0. 0. 0. 0.]\n"
          ]
        }
      ],
      "source": [
        "print(words[2])\n",
        "print(words_matrix[2,:])"
      ]
    },
    {
      "cell_type": "code",
      "execution_count": null,
      "id": "f619c825",
      "metadata": {
        "id": "f619c825"
      },
      "outputs": [],
      "source": [
        "# Define the model\n",
        "model = Sequential()\n",
        "model.add(Embedding(input_dim=vocab_size, output_dim=64, input_length=max_len))\n",
        "model.add(GRU(units=64, return_sequences=True)) # BiLSTM layer\n",
        "model.add(TimeDistributed(Dense(vocab_size, activation='softmax')))  # TimeDistributed for sequence prediction\n",
        "\n",
        "# Compile the model\n",
        "model.compile(loss='sparse_categorical_crossentropy', optimizer=Adam(), metrics=['accuracy'])"
      ]
    },
    {
      "cell_type": "code",
      "execution_count": null,
      "id": "14367cc6",
      "metadata": {
        "colab": {
          "base_uri": "https://localhost:8080/"
        },
        "id": "14367cc6",
        "outputId": "347a0d05-12f2-477c-c070-9d21c8421698"
      },
      "outputs": [
        {
          "name": "stdout",
          "output_type": "stream",
          "text": [
            "Epoch 1/20\n",
            "561/561 [==============================] - 12s 11ms/step - loss: 0.6671 - accuracy: 0.8597 - val_loss: 0.1218 - val_accuracy: 0.9631\n",
            "Epoch 2/20\n",
            "561/561 [==============================] - 5s 9ms/step - loss: 0.1013 - accuracy: 0.9669 - val_loss: 0.0879 - val_accuracy: 0.9704\n",
            "Epoch 3/20\n",
            "561/561 [==============================] - 4s 6ms/step - loss: 0.0862 - accuracy: 0.9702 - val_loss: 0.0808 - val_accuracy: 0.9722\n",
            "Epoch 4/20\n",
            "561/561 [==============================] - 4s 7ms/step - loss: 0.0806 - accuracy: 0.9720 - val_loss: 0.0772 - val_accuracy: 0.9738\n",
            "Epoch 5/20\n",
            "561/561 [==============================] - 4s 7ms/step - loss: 0.0765 - accuracy: 0.9733 - val_loss: 0.0736 - val_accuracy: 0.9745\n",
            "Epoch 6/20\n",
            "561/561 [==============================] - 4s 8ms/step - loss: 0.0733 - accuracy: 0.9745 - val_loss: 0.0729 - val_accuracy: 0.9750\n",
            "Epoch 7/20\n",
            "561/561 [==============================] - 3s 6ms/step - loss: 0.0703 - accuracy: 0.9758 - val_loss: 0.0674 - val_accuracy: 0.9773\n",
            "Epoch 8/20\n",
            "561/561 [==============================] - 3s 6ms/step - loss: 0.0680 - accuracy: 0.9768 - val_loss: 0.0676 - val_accuracy: 0.9768\n",
            "Epoch 9/20\n",
            "561/561 [==============================] - 5s 9ms/step - loss: 0.0657 - accuracy: 0.9779 - val_loss: 0.0638 - val_accuracy: 0.9792\n",
            "Epoch 10/20\n",
            "561/561 [==============================] - 4s 6ms/step - loss: 0.0639 - accuracy: 0.9788 - val_loss: 0.0623 - val_accuracy: 0.9797\n",
            "Epoch 11/20\n",
            "561/561 [==============================] - 4s 7ms/step - loss: 0.0622 - accuracy: 0.9795 - val_loss: 0.0613 - val_accuracy: 0.9800\n",
            "Epoch 12/20\n",
            "561/561 [==============================] - 4s 7ms/step - loss: 0.0608 - accuracy: 0.9801 - val_loss: 0.0607 - val_accuracy: 0.9804\n",
            "Epoch 13/20\n",
            "561/561 [==============================] - 4s 8ms/step - loss: 0.0594 - accuracy: 0.9807 - val_loss: 0.0591 - val_accuracy: 0.9813\n",
            "Epoch 14/20\n",
            "561/561 [==============================] - 4s 7ms/step - loss: 0.0582 - accuracy: 0.9811 - val_loss: 0.0587 - val_accuracy: 0.9815\n",
            "Epoch 15/20\n",
            "561/561 [==============================] - 5s 8ms/step - loss: 0.0570 - accuracy: 0.9817 - val_loss: 0.0581 - val_accuracy: 0.9818\n",
            "Epoch 16/20\n",
            "561/561 [==============================] - 5s 8ms/step - loss: 0.0560 - accuracy: 0.9821 - val_loss: 0.0579 - val_accuracy: 0.9818\n",
            "Epoch 17/20\n",
            "561/561 [==============================] - 4s 6ms/step - loss: 0.0550 - accuracy: 0.9825 - val_loss: 0.0564 - val_accuracy: 0.9824\n",
            "Epoch 18/20\n",
            "561/561 [==============================] - 3s 6ms/step - loss: 0.0540 - accuracy: 0.9829 - val_loss: 0.0556 - val_accuracy: 0.9829\n",
            "Epoch 19/20\n",
            "561/561 [==============================] - 4s 7ms/step - loss: 0.0531 - accuracy: 0.9834 - val_loss: 0.0557 - val_accuracy: 0.9829\n",
            "Epoch 20/20\n",
            "561/561 [==============================] - 4s 8ms/step - loss: 0.0523 - accuracy: 0.9836 - val_loss: 0.0559 - val_accuracy: 0.9828\n"
          ]
        }
      ],
      "source": [
        "# Train the model\n",
        "history = model.fit(X_train, y_train, epochs=20, batch_size=128, validation_split=0.2)"
      ]
    },
    {
      "cell_type": "code",
      "execution_count": null,
      "id": "7a4IFuPHRj0_",
      "metadata": {
        "colab": {
          "base_uri": "https://localhost:8080/",
          "height": 410
        },
        "id": "7a4IFuPHRj0_",
        "outputId": "b3ec25dc-63aa-4903-9530-ee1272081073"
      },
      "outputs": [
        {
          "data": {
            "image/png": "[encoded data removed]",
            "text/plain": [
              "<Figure size 1200x400 with 2 Axes>"
            ]
          },
          "metadata": {},
          "output_type": "display_data"
        }
      ],
      "source": [
        "# Plot accuracy and loss curves\n",
        "plt.figure(figsize=(12, 4))\n",
        "plt.subplot(1, 2, 1)\n",
        "plt.plot(history.history['accuracy'], label='Train Accuracy')\n",
        "plt.plot(history.history['val_accuracy'], label='Validation Accuracy')\n",
        "plt.title('Accuracy over Epochs')\n",
        "plt.xlabel('Epochs')\n",
        "plt.ylabel('Accuracy')\n",
        "plt.legend()\n",
        "\n",
        "plt.subplot(1, 2, 2)\n",
        "plt.plot(history.history['loss'], label='Train Loss')\n",
        "plt.plot(history.history['val_loss'], label='Validation Loss')\n",
        "plt.title('Loss over Epochs')\n",
        "plt.xlabel('Epochs')\n",
        "plt.ylabel('Loss')\n",
        "plt.legend()\n",
        "plt.show()"
      ]
    },
    {
      "cell_type": "code",
      "execution_count": null,
      "id": "WfXlatRwUpxH",
      "metadata": {
        "colab": {
          "base_uri": "https://localhost:8080/"
        },
        "id": "WfXlatRwUpxH",
        "outputId": "4f866f32-85cc-4969-e6b3-3bfc30b6d36e"
      },
      "outputs": [
        {
          "name": "stdout",
          "output_type": "stream",
          "text": [
            "701/701 [==============================] - 3s 4ms/step\n",
            "Precision: 0.9499729437701987\n",
            "Recall: 0.9067796495672906\n",
            "F1-score: 0.9234471659403748\n",
            "Accuracy: 0.9603460629458127\n"
          ]
        },
        {
          "name": "stderr",
          "output_type": "stream",
          "text": [
            "/usr/local/lib/python3.10/dist-packages/sklearn/metrics/_classification.py:1344: UndefinedMetricWarning: Precision is ill-defined and being set to 0.0 in labels with no predicted samples. Use `zero_division` parameter to control this behavior.\n",
            "  _warn_prf(average, modifier, msg_start, len(result))\n",
            "/usr/local/lib/python3.10/dist-packages/sklearn/metrics/_classification.py:1344: UndefinedMetricWarning: Recall is ill-defined and being set to 0.0 in labels with no true samples. Use `zero_division` parameter to control this behavior.\n",
            "  _warn_prf(average, modifier, msg_start, len(result))\n"
          ]
        }
      ],
      "source": [
        "from sklearn.metrics import precision_score, recall_score, f1_score, accuracy_score\n",
        "\n",
        "# Prepare testing data\n",
        "X_test_texts = [n for (n, l) in test_set]\n",
        "Y_test_texts = [l for (n, l) in test_set]\n",
        "X_test = np.array(pad_sequences(tokenizer.texts_to_sequences(X_test_texts), maxlen=max_len, padding='post')).astype('int32')\n",
        "y_test = np.array(pad_sequences(tokenizer.texts_to_sequences(Y_test_texts), maxlen=max_len, padding='post')).astype('int32')\n",
        "\n",
        "# Predict on the test set\n",
        "y_pred = model.predict(X_test)\n",
        "y_pred = y_pred.argmax(axis=-1)\n",
        "\n",
        "# Flatten the predictions and true labels for evaluation\n",
        "y_test_flat = y_test.flatten()\n",
        "y_pred_flat = y_pred.flatten()\n",
        "\n",
        "# Filter out padding\n",
        "mask = y_test_flat != 0\n",
        "y_test_flat = y_test_flat[mask]\n",
        "y_pred_flat = y_pred_flat[mask]\n",
        "\n",
        "# Calculate metrics\n",
        "precision = precision_score(y_test_flat, y_pred_flat, average='macro')\n",
        "recall = recall_score(y_test_flat, y_pred_flat, average='macro')\n",
        "f1 = f1_score(y_test_flat, y_pred_flat, average='macro')\n",
        "accuracy = accuracy_score(y_test_flat, y_pred_flat)\n",
        "\n",
        "print(f'Precision: {precision}')\n",
        "print(f'Recall: {recall}')\n",
        "print(f'F1-score: {f1}')\n",
        "print(f'Accuracy: {accuracy}')"
      ]
    },
    {
      "cell_type": "code",
      "execution_count": null,
      "id": "dbee31c5",
      "metadata": {
        "colab": {
          "base_uri": "https://localhost:8080/"
        },
        "id": "dbee31c5",
        "outputId": "e8997d0f-a8bf-4e6d-b77d-a63a0dceae05"
      },
      "outputs": [
        {
          "name": "stdout",
          "output_type": "stream",
          "text": [
            "Model saved successfully as 'LSTM.h5'\n"
          ]
        }
      ],
      "source": [
        "from keras.models import load_model\n",
        "\n",
        "# Assuming 'model' is your trained model\n",
        "# Save the model to a file\n",
        "model.save('BiLSTM.h5')\n",
        "\n",
        "# Print a success message\n",
        "print(\"Model saved successfully as 'BiLSTM.h5'\")"
      ]
    },
    {
      "cell_type": "code",
      "execution_count": null,
      "id": "ab8768ba",
      "metadata": {
        "id": "ab8768ba"
      },
      "outputs": [],
      "source": [
        "# Save the tokenizer\n",
        "with open('tokenizer.pickle', 'wb') as handle:\n",
        "    pickle.dump(tokenizer, handle, protocol=pickle.HIGHEST_PROTOCOL)"
      ]
    },
    {
      "cell_type": "code",
      "execution_count": null,
      "id": "2875e361",
      "metadata": {
        "id": "2875e361"
      },
      "outputs": [],
      "source": [
        "from keras.models import load_model\n",
        "import numpy as np\n",
        "from tensorflow.keras.preprocessing.sequence import pad_sequences\n",
        "import pickle\n",
        "\n",
        "def predict_lemma(word):\n",
        "\n",
        "  max_len=16\n",
        "  with open('/content/gdrive/MyDrive/FYP/tokenizer.pickle', 'rb') as handle:\n",
        "    tokenizer = pickle.load(handle)\n",
        "\n",
        "  # Convert the word to a sequence of integers\n",
        "  sequence = tokenizer.texts_to_sequences([word])\n",
        "\n",
        "  # Pad the sequence to the maximum length\n",
        "  padded_sequence = pad_sequences(sequence, maxlen=max_len,padding='post')\n",
        "\n",
        "  model = load_model('/content/gdrive/MyDrive/FYP/BiLSTM.h5')\n",
        "\n",
        "  # Predict the lemma using the trained model\n",
        "  predictions = model.predict(padded_sequence)\n",
        "\n",
        "  # Convert the prediction to the corresponding lemma\n",
        "  # Since the output is a sequence, we need to take the argmax for each timestep\n",
        "  lemma_sequence = np.argmax(predictions, axis=-1)[0]\n",
        "\n",
        "  # Retrieve the corresponding lemma from the tokenizer's index_word dictionary\n",
        "  lemma = ''.join([tokenizer.index_word.get(i, '') for i in lemma_sequence if i != 0])\n",
        "\n",
        "  return lemma"
      ]
    },
    {
      "cell_type": "code",
      "execution_count": null,
      "id": "f4b52179",
      "metadata": {
        "colab": {
          "base_uri": "https://localhost:8080/"
        },
        "id": "f4b52179",
        "outputId": "8f25d77d-e47c-4f42-97f5-7fb0bf475e33"
      },
      "outputs": [
        {
          "name": "stdout",
          "output_type": "stream",
          "text": [
            "1/1 [==============================] - 0s 306ms/step\n",
            "The predicted lemma for ڈھگائیں is: ڈھگا\n"
          ]
        }
      ],
      "source": [
        "# Example usage (Actuall lemma = ڈھگا):\n",
        "word = 'ڈھگائیں'\n",
        "predicted_lemma = predict_lemma(word)\n",
        "print(f\"The predicted lemma for {word} is: {predicted_lemma}\")"
      ]
    },
    {
      "cell_type": "code",
      "execution_count": null,
      "id": "5dde43ce",
      "metadata": {
        "colab": {
          "base_uri": "https://localhost:8080/"
        },
        "id": "5dde43ce",
        "outputId": "b892c85c-9df0-4aaa-f2de-eac367ed1bd4"
      },
      "outputs": [
        {
          "name": "stdout",
          "output_type": "stream",
          "text": [
            "1/1 [==============================] - 0s 323ms/step\n",
            "The predicted lemma for ڈراونہیو is: ڈراونہ\n"
          ]
        }
      ],
      "source": [
        "# Example usage (Actuall lemma = ڈراونہ):\n",
        "word = 'ڈراونہیو'\n",
        "predicted_lemma = predict_lemma(word)\n",
        "print(f\"The predicted lemma for {word} is: {predicted_lemma}\")"
      ]
    },
    {
      "cell_type": "code",
      "execution_count": null,
      "id": "d426f55a",
      "metadata": {
        "colab": {
          "base_uri": "https://localhost:8080/"
        },
        "id": "d426f55a",
        "outputId": "b77f7ae7-6b50-4140-e9f3-dd58f624d699"
      },
      "outputs": [
        {
          "name": "stdout",
          "output_type": "stream",
          "text": [
            "1/1 [==============================] - 0s 478ms/step\n",
            "The predicted lemma for تگڑادا is: تگڑا\n"
          ]
        }
      ],
      "source": [
        "# Example usage (Actuall lemma = 'تگڑا'):\n",
        "word = 'تگڑادا'\n",
        "predicted_lemma = predict_lemma(word)\n",
        "print(f\"The predicted lemma for {word} is: {predicted_lemma}\")"
      ]
    },
    {
      "cell_type": "code",
      "execution_count": null,
      "id": "0e0c4c52",
      "metadata": {
        "colab": {
          "base_uri": "https://localhost:8080/"
        },
        "id": "0e0c4c52",
        "outputId": "21215699-f002-4765-a27d-9875a05b942f"
      },
      "outputs": [
        {
          "name": "stdout",
          "output_type": "stream",
          "text": [
            "1/1 [==============================] - 1s 602ms/step\n",
            "The predicted lemma for ہونا is: ہو\n"
          ]
        }
      ],
      "source": [
        "word = 'ہونا'\n",
        "predicted_lemma = predict_lemma(word)\n",
        "print(f\"The predicted lemma for {word} is: {predicted_lemma}\")"
      ]
    },
    {
      "cell_type": "code",
      "execution_count": null,
      "id": "1744306d",
      "metadata": {
        "colab": {
          "base_uri": "https://localhost:8080/"
        },
        "id": "1744306d",
        "outputId": "f50a6bf9-cd2f-4898-de0f-1c125549b214"
      },
      "outputs": [
        {
          "name": "stdout",
          "output_type": "stream",
          "text": [
            "1/1 [==============================] - 1s 570ms/step\n",
            "The predicted lemma for جہانیاں is: جہان\n"
          ]
        }
      ],
      "source": [
        "word = 'جہانیاں'\n",
        "predicted_lemma = predict_lemma(word)\n",
        "print(f\"The predicted lemma for {word} is: {predicted_lemma}\")"
      ]
    },
    {
      "cell_type": "code",
      "execution_count": null,
      "id": "36ac8164",
      "metadata": {
        "colab": {
          "base_uri": "https://localhost:8080/"
        },
        "id": "36ac8164",
        "outputId": "988222de-a975-45b8-e63a-c467981693bf"
      },
      "outputs": [
        {
          "name": "stdout",
          "output_type": "stream",
          "text": [
            "1/1 [==============================] - 1s 650ms/step\n",
            "The predicted lemma for خانسامنوں is: خانسامن\n"
          ]
        }
      ],
      "source": [
        "word = 'خانسامنوں'\n",
        "predicted_lemma = predict_lemma(word)\n",
        "print(f\"The predicted lemma for {word} is: {predicted_lemma}\")"
      ]
    },
    {
      "cell_type": "code",
      "execution_count": null,
      "id": "60df64a2",
      "metadata": {
        "colab": {
          "base_uri": "https://localhost:8080/"
        },
        "id": "60df64a2",
        "outputId": "9f45ceda-c38b-4fd9-c1fa-1b51e6d22cb1"
      },
      "outputs": [
        {
          "name": "stdout",
          "output_type": "stream",
          "text": [
            "1/1 [==============================] - 0s 499ms/step\n",
            "The predicted lemma for 'جميعت' is: جمعت\n"
          ]
        }
      ],
      "source": [
        "predicted_lemma = predict_lemma('جميعت')\n",
        "print(f\"The predicted lemma for 'جميعت' is: {predicted_lemma}\")"
      ]
    },
    {
      "cell_type": "code",
      "execution_count": null,
      "id": "e13ce82d",
      "metadata": {
        "colab": {
          "base_uri": "https://localhost:8080/"
        },
        "id": "e13ce82d",
        "outputId": "e0661597-fb6e-4fe0-d5d1-1a77a7ddd2da"
      },
      "outputs": [
        {
          "name": "stdout",
          "output_type": "stream",
          "text": [
            "1/1 [==============================] - 0s 483ms/step\n",
            "The predicted lemma for جھجکوں is: جھجک\n"
          ]
        }
      ],
      "source": [
        "# Example usage:\n",
        "word = 'جھجکوں'\n",
        "predicted_lemma = predict_lemma(word)\n",
        "print(f\"The predicted lemma for {word} is: {predicted_lemma}\")"
      ]
    },
    {
      "cell_type": "code",
      "execution_count": null,
      "id": "30802755",
      "metadata": {
        "colab": {
          "base_uri": "https://localhost:8080/"
        },
        "id": "30802755",
        "outputId": "b3f4a608-ef18-4484-845f-e0be9292f1a6"
      },
      "outputs": [
        {
          "name": "stdout",
          "output_type": "stream",
          "text": [
            "1/1 [==============================] - 0s 320ms/step\n",
            "The predicted lemma for پهنسوائیو is: پنسوا\n"
          ]
        }
      ],
      "source": [
        "word = 'پهنسوائیو'\n",
        "predicted_lemma = predict_lemma(word)\n",
        "print(f\"The predicted lemma for {word} is: {predicted_lemma}\")"
      ]
    },
    {
      "cell_type": "code",
      "execution_count": null,
      "id": "754d9a13",
      "metadata": {
        "colab": {
          "base_uri": "https://localhost:8080/"
        },
        "id": "754d9a13",
        "outputId": "772fe4eb-60cc-4c8a-ad44-da0a294ccd8d"
      },
      "outputs": [
        {
          "name": "stdout",
          "output_type": "stream",
          "text": [
            "1/1 [==============================] - 0s 316ms/step\n",
            "The predicted lemma for جھپٹواوندیاں is: جھپٹوا\n"
          ]
        }
      ],
      "source": [
        "# Example usage (Actuall lemma ='جھپٹوا'):\n",
        "word = 'جھپٹواوندیاں'\n",
        "predicted_lemma = predict_lemma(word)\n",
        "print(f\"The predicted lemma for {word} is: {predicted_lemma}\")"
      ]
    },
    {
      "cell_type": "code",
      "execution_count": null,
      "id": "fa31144f",
      "metadata": {
        "colab": {
          "base_uri": "https://localhost:8080/"
        },
        "id": "fa31144f",
        "outputId": "a63e6de1-b884-4ddb-c728-e6d2547d2067"
      },
      "outputs": [
        {
          "name": "stdout",
          "output_type": "stream",
          "text": [
            "1/1 [==============================] - 0s 333ms/step\n",
            "The predicted lemma for کرنا is: کرن\n"
          ]
        }
      ],
      "source": [
        "# Example usage (Actuall lemma ='کھانا'):\n",
        "word = 'کرنا'\n",
        "predicted_lemma = predict_lemma(word)\n",
        "print(f\"The predicted lemma for {word} is: {predicted_lemma}\")"
      ]
    },
    {
      "cell_type": "code",
      "execution_count": null,
      "id": "547c1d3e",
      "metadata": {
        "colab": {
          "base_uri": "https://localhost:8080/"
        },
        "id": "547c1d3e",
        "outputId": "184e769a-9748-47b6-e8dd-d7856354c4d7"
      },
      "outputs": [
        {
          "name": "stdout",
          "output_type": "stream",
          "text": [
            "1/1 [==============================] - 0s 337ms/step\n",
            "The predicted lemma for وداندیاں is: ودا\n"
          ]
        }
      ],
      "source": [
        "# Example usage (Actuall lemma ='کھانا'):\n",
        "word = 'وداندیاں'\n",
        "predicted_lemma = predict_lemma(word)\n",
        "print(f\"The predicted lemma for {word} is: {predicted_lemma}\")"
      ]
    },
    {
      "cell_type": "code",
      "execution_count": null,
      "id": "4ee112a5",
      "metadata": {
        "colab": {
          "base_uri": "https://localhost:8080/"
        },
        "id": "4ee112a5",
        "outputId": "41dd6c13-b2f9-42ce-8259-4e60deab7246"
      },
      "outputs": [
        {
          "name": "stdout",
          "output_type": "stream",
          "text": [
            "1/1 [==============================] - 0s 339ms/step\n",
            "The predicted lemma for چھڈواوئیے is: چھڈوا\n"
          ]
        }
      ],
      "source": [
        "# Example usage (Actuall lemma ='کھانا'):\n",
        "word = 'چھڈواوئیے'\n",
        "predicted_lemma = predict_lemma(word)\n",
        "print(f\"The predicted lemma for {word} is: {predicted_lemma}\")\n"
      ]
    },
    {
      "cell_type": "code",
      "execution_count": null,
      "id": "785f3d1a",
      "metadata": {
        "colab": {
          "base_uri": "https://localhost:8080/"
        },
        "id": "785f3d1a",
        "outputId": "f8c91e57-dc60-482f-c47d-11a91862c20a"
      },
      "outputs": [
        {
          "name": "stdout",
          "output_type": "stream",
          "text": [
            "1/1 [==============================] - 0s 333ms/step\n",
            "The predicted lemma for چوندهيانا is: چوندا\n"
          ]
        }
      ],
      "source": [
        "# Example usage (Actuall lemma ='چوندا'):\n",
        "word = 'چوندهيانا'\n",
        "predicted_lemma = predict_lemma(word)\n",
        "print(f\"The predicted lemma for {word} is: {predicted_lemma}\")\n"
      ]
    },
    {
      "cell_type": "code",
      "execution_count": null,
      "id": "1d6093f2",
      "metadata": {
        "colab": {
          "base_uri": "https://localhost:8080/"
        },
        "id": "1d6093f2",
        "outputId": "e564afaa-3e69-4614-f388-5b482a265b45"
      },
      "outputs": [
        {
          "name": "stdout",
          "output_type": "stream",
          "text": [
            "1/1 [==============================] - 0s 323ms/step\n",
            "The predicted lemma for مچواندیاں is: مچوا\n"
          ]
        }
      ],
      "source": [
        "# Example usage (Actuall lemma ='مچوا'):\n",
        "word = 'مچواندیاں'\n",
        "predicted_lemma = predict_lemma(word)\n",
        "print(f\"The predicted lemma for {word} is: {predicted_lemma}\")"
      ]
    },
    {
      "cell_type": "code",
      "execution_count": null,
      "id": "2111270e",
      "metadata": {
        "colab": {
          "base_uri": "https://localhost:8080/"
        },
        "id": "2111270e",
        "outputId": "cf4001f9-7a67-4922-dd9c-0c7823340731"
      },
      "outputs": [
        {
          "name": "stdout",
          "output_type": "stream",
          "text": [
            "1/1 [==============================] - 2s 2s/step\n",
            "The predicted lemma for فلاںدیاں is: فلاں\n"
          ]
        }
      ],
      "source": [
        "word = 'فلاںدیاں'\n",
        "predicted_lemma = predict_lemma(word)\n",
        "print(f\"The predicted lemma for {word} is: {predicted_lemma}\")\n"
      ]
    },
    {
      "cell_type": "code",
      "execution_count": null,
      "id": "4b3f0a95",
      "metadata": {
        "colab": {
          "base_uri": "https://localhost:8080/"
        },
        "id": "4b3f0a95",
        "outputId": "80c7b7b7-5948-496c-9579-00feb7f492f1"
      },
      "outputs": [
        {
          "name": "stdout",
          "output_type": "stream",
          "text": [
            "1/1 [==============================] - 0s 351ms/step\n",
            "The predicted lemma for کهيوٹو is: کوٹو\n"
          ]
        }
      ],
      "source": [
        "word = 'کهيوٹو'\n",
        "predicted_lemma = predict_lemma(word)\n",
        "print(f\"The predicted lemma for {word} is: {predicted_lemma}\")\n"
      ]
    },
    {
      "cell_type": "code",
      "execution_count": null,
      "id": "ksLACtyumYYY",
      "metadata": {
        "colab": {
          "base_uri": "https://localhost:8080/"
        },
        "id": "ksLACtyumYYY",
        "outputId": "991c8478-1909-4b18-f1a0-4b14c4ba138d"
      },
      "outputs": [
        {
          "name": "stdout",
          "output_type": "stream",
          "text": [
            "1/1 [==============================] - 0s 305ms/step\n",
            "The predicted lemma for جائیے is: جائ\n"
          ]
        }
      ],
      "source": [
        "word = 'جائیے'\n",
        "predicted_lemma = predict_lemma(word)\n",
        "print(f\"The predicted lemma for {word} is: {predicted_lemma}\")\n"
      ]
    },
    {
      "cell_type": "code",
      "execution_count": null,
      "id": "gK2G2Gbzx4ff",
      "metadata": {
        "colab": {
          "base_uri": "https://localhost:8080/",
          "height": 1000
        },
        "id": "gK2G2Gbzx4ff",
        "outputId": "935b1401-81f6-45bb-f1cb-cac6c8c8e632"
      },
      "outputs": [
        {
          "name": "stdout",
          "output_type": "stream",
          "text": [
            "1/1 [==============================] - 1s 1s/step\n",
            "1/1 [==============================] - 1s 614ms/step\n",
            "1/1 [==============================] - 1s 633ms/step\n",
            "1/1 [==============================] - 1s 609ms/step\n"
          ]
        },
        {
          "name": "stderr",
          "output_type": "stream",
          "text": [
            "WARNING:tensorflow:5 out of the last 5 calls to <function Model.make_predict_function.<locals>.predict_function at 0x7d21404c9630> triggered tf.function retracing. Tracing is expensive and the excessive number of tracings could be due to (1) creating @tf.function repeatedly in a loop, (2) passing tensors with different shapes, (3) passing Python objects instead of tensors. For (1), please define your @tf.function outside of the loop. For (2), @tf.function has reduce_retracing=True option that can avoid unnecessary retracing. For (3), please refer to https://www.tensorflow.org/guide/function#controlling_retracing and https://www.tensorflow.org/api_docs/python/tf/function for  more details.\n"
          ]
        },
        {
          "name": "stdout",
          "output_type": "stream",
          "text": [
            "1/1 [==============================] - 1s 618ms/step\n"
          ]
        },
        {
          "name": "stderr",
          "output_type": "stream",
          "text": [
            "WARNING:tensorflow:6 out of the last 6 calls to <function Model.make_predict_function.<locals>.predict_function at 0x7d21401a01f0> triggered tf.function retracing. Tracing is expensive and the excessive number of tracings could be due to (1) creating @tf.function repeatedly in a loop, (2) passing tensors with different shapes, (3) passing Python objects instead of tensors. For (1), please define your @tf.function outside of the loop. For (2), @tf.function has reduce_retracing=True option that can avoid unnecessary retracing. For (3), please refer to https://www.tensorflow.org/guide/function#controlling_retracing and https://www.tensorflow.org/api_docs/python/tf/function for  more details.\n"
          ]
        },
        {
          "name": "stdout",
          "output_type": "stream",
          "text": [
            "1/1 [==============================] - 1s 611ms/step\n",
            "1/1 [==============================] - 1s 597ms/step\n",
            "1/1 [==============================] - 1s 608ms/step\n",
            "1/1 [==============================] - 1s 813ms/step\n",
            "1/1 [==============================] - 1s 864ms/step\n",
            "1/1 [==============================] - 1s 714ms/step\n",
            "1/1 [==============================] - 1s 620ms/step\n",
            "1/1 [==============================] - 1s 612ms/step\n",
            "1/1 [==============================] - 1s 1s/step\n",
            "1/1 [==============================] - 1s 619ms/step\n",
            "1/1 [==============================] - 1s 595ms/step\n",
            "1/1 [==============================] - 1s 596ms/step\n",
            "1/1 [==============================] - 1s 688ms/step\n",
            "1/1 [==============================] - 1s 674ms/step\n",
            "1/1 [==============================] - 1s 843ms/step\n",
            "1/1 [==============================] - 1s 918ms/step\n",
            "1/1 [==============================] - 1s 596ms/step\n",
            "1/1 [==============================] - 1s 615ms/step\n",
            "1/1 [==============================] - 1s 688ms/step\n",
            "1/1 [==============================] - 1s 594ms/step\n",
            "1/1 [==============================] - 1s 590ms/step\n",
            "1/1 [==============================] - 1s 596ms/step\n",
            "1/1 [==============================] - 1s 594ms/step\n",
            "1/1 [==============================] - 1s 1s/step\n",
            "1/1 [==============================] - 1s 862ms/step\n",
            "1/1 [==============================] - 1s 905ms/step\n",
            "1/1 [==============================] - 1s 600ms/step\n",
            "1/1 [==============================] - 1s 603ms/step\n",
            "1/1 [==============================] - 1s 602ms/step\n",
            "1/1 [==============================] - 1s 605ms/step\n",
            "1/1 [==============================] - 1s 981ms/step\n",
            "1/1 [==============================] - 1s 618ms/step\n",
            "1/1 [==============================] - 1s 627ms/step\n",
            "1/1 [==============================] - 1s 598ms/step\n",
            "1/1 [==============================] - 1s 843ms/step\n",
            "1/1 [==============================] - 1s 880ms/step\n",
            "1/1 [==============================] - 1s 645ms/step\n",
            "1/1 [==============================] - 1s 619ms/step\n",
            "1/1 [==============================] - 1s 599ms/step\n",
            "1/1 [==============================] - 1s 590ms/step\n",
            "1/1 [==============================] - 1s 605ms/step\n",
            "1/1 [==============================] - 1s 626ms/step\n",
            "1/1 [==============================] - 1s 611ms/step\n",
            "1/1 [==============================] - 1s 614ms/step\n",
            "1/1 [==============================] - 1s 709ms/step\n",
            "1/1 [==============================] - 1s 1s/step\n",
            "1/1 [==============================] - 1s 671ms/step\n",
            "1/1 [==============================] - 1s 597ms/step\n",
            "1/1 [==============================] - 1s 585ms/step\n",
            "1/1 [==============================] - 1s 881ms/step\n",
            "1/1 [==============================] - 1s 882ms/step\n",
            "1/1 [==============================] - 1s 688ms/step\n",
            "1/1 [==============================] - 1s 600ms/step\n",
            "1/1 [==============================] - 1s 648ms/step\n",
            "1/1 [==============================] - 1s 857ms/step\n",
            "1/1 [==============================] - 1s 918ms/step\n",
            "1/1 [==============================] - 1s 582ms/step\n",
            "1/1 [==============================] - 1s 613ms/step\n",
            "1/1 [==============================] - 1s 595ms/step\n",
            "1/1 [==============================] - 1s 609ms/step\n",
            "1/1 [==============================] - 1s 587ms/step\n",
            "1/1 [==============================] - 1s 584ms/step\n",
            "1/1 [==============================] - 1s 611ms/step\n",
            "1/1 [==============================] - 1s 616ms/step\n",
            "1/1 [==============================] - 1s 863ms/step\n",
            "1/1 [==============================] - 1s 935ms/step\n",
            "1/1 [==============================] - 1s 596ms/step\n",
            "1/1 [==============================] - 1s 1s/step\n",
            "1/1 [==============================] - 1s 607ms/step\n",
            "1/1 [==============================] - 1s 608ms/step\n",
            "1/1 [==============================] - 1s 608ms/step\n",
            "1/1 [==============================] - 1s 590ms/step\n",
            "1/1 [==============================] - 1s 585ms/step\n",
            "1/1 [==============================] - 1s 601ms/step\n",
            "1/1 [==============================] - 1s 804ms/step\n",
            "1/1 [==============================] - 1s 932ms/step\n",
            "1/1 [==============================] - 1s 592ms/step\n",
            "1/1 [==============================] - 1s 602ms/step\n",
            "1/1 [==============================] - 1s 625ms/step\n",
            "1/1 [==============================] - 1s 616ms/step\n",
            "1/1 [==============================] - 1s 597ms/step\n",
            "1/1 [==============================] - 1s 583ms/step\n",
            "1/1 [==============================] - 1s 1s/step\n",
            "1/1 [==============================] - 1s 606ms/step\n",
            "1/1 [==============================] - 1s 820ms/step\n",
            "1/1 [==============================] - 1s 875ms/step\n",
            "1/1 [==============================] - 1s 688ms/step\n",
            "1/1 [==============================] - 1s 595ms/step\n",
            "1/1 [==============================] - 1s 629ms/step\n",
            "1/1 [==============================] - 1s 607ms/step\n",
            "1/1 [==============================] - 1s 604ms/step\n",
            "1/1 [==============================] - 1s 610ms/step\n",
            "1/1 [==============================] - 1s 628ms/step\n",
            "1/1 [==============================] - 1s 598ms/step\n",
            "1/1 [==============================] - 1s 728ms/step\n",
            "1/1 [==============================] - 1s 860ms/step\n",
            "1/1 [==============================] - 1s 908ms/step\n",
            "1/1 [==============================] - 1s 606ms/step\n",
            "1/1 [==============================] - 1s 602ms/step\n",
            "1/1 [==============================] - 1s 599ms/step\n",
            "1/1 [==============================] - 1s 625ms/step\n",
            "1/1 [==============================] - 1s 598ms/step\n",
            "1/1 [==============================] - 1s 594ms/step\n",
            "1/1 [==============================] - 1s 596ms/step\n",
            "1/1 [==============================] - 1s 1s/step\n",
            "1/1 [==============================] - 1s 855ms/step\n",
            "1/1 [==============================] - 1s 916ms/step\n",
            "1/1 [==============================] - 1s 817ms/step\n",
            "1/1 [==============================] - 1s 878ms/step\n",
            "1/1 [==============================] - 1s 905ms/step\n",
            "1/1 [==============================] - 1s 590ms/step\n",
            "1/1 [==============================] - 1s 599ms/step\n",
            "1/1 [==============================] - 1s 607ms/step\n",
            "1/1 [==============================] - 1s 633ms/step\n",
            "1/1 [==============================] - 1s 850ms/step\n",
            "1/1 [==============================] - 1s 925ms/step\n",
            "1/1 [==============================] - 1s 601ms/step\n",
            "1/1 [==============================] - 1s 600ms/step\n",
            "1/1 [==============================] - 1s 608ms/step\n",
            "1/1 [==============================] - 1s 1s/step\n",
            "1/1 [==============================] - 1s 601ms/step\n",
            "1/1 [==============================] - 1s 621ms/step\n",
            "1/1 [==============================] - 1s 608ms/step\n",
            "1/1 [==============================] - 1s 594ms/step\n",
            "1/1 [==============================] - 1s 821ms/step\n",
            "1/1 [==============================] - 1s 889ms/step\n",
            "1/1 [==============================] - 1s 660ms/step\n",
            "1/1 [==============================] - 1s 610ms/step\n",
            "1/1 [==============================] - 1s 585ms/step\n",
            "1/1 [==============================] - 1s 581ms/step\n",
            "1/1 [==============================] - 1s 576ms/step\n",
            "1/1 [==============================] - 1s 612ms/step\n",
            "1/1 [==============================] - 1s 620ms/step\n",
            "1/1 [==============================] - 1s 625ms/step\n",
            "1/1 [==============================] - 1s 844ms/step\n",
            "1/1 [==============================] - 1s 888ms/step\n",
            "1/1 [==============================] - 1s 716ms/step\n",
            "1/1 [==============================] - 1s 615ms/step\n",
            "1/1 [==============================] - 1s 597ms/step\n",
            "1/1 [==============================] - 1s 597ms/step\n",
            "1/1 [==============================] - 1s 600ms/step\n",
            "1/1 [==============================] - 1s 628ms/step\n",
            "1/1 [==============================] - 1s 605ms/step\n",
            "1/1 [==============================] - 1s 611ms/step\n",
            "1/1 [==============================] - 1s 642ms/step\n",
            "1/1 [==============================] - 1s 849ms/step\n",
            "1/1 [==============================] - 1s 917ms/step\n",
            "1/1 [==============================] - 1s 599ms/step\n",
            "1/1 [==============================] - 1s 1s/step\n",
            "1/1 [==============================] - 1s 630ms/step\n",
            "1/1 [==============================] - 1s 596ms/step\n",
            "1/1 [==============================] - 1s 583ms/step\n",
            "1/1 [==============================] - 1s 584ms/step\n",
            "1/1 [==============================] - 1s 589ms/step\n",
            "1/1 [==============================] - 1s 615ms/step\n",
            "1/1 [==============================] - 1s 880ms/step\n",
            "1/1 [==============================] - 1s 979ms/step\n",
            "1/1 [==============================] - 1s 620ms/step\n",
            "1/1 [==============================] - 1s 611ms/step\n",
            "1/1 [==============================] - 1s 613ms/step\n",
            "1/1 [==============================] - 1s 634ms/step\n",
            "1/1 [==============================] - 1s 601ms/step\n",
            "1/1 [==============================] - 1s 599ms/step\n",
            "1/1 [==============================] - 1s 632ms/step\n",
            "1/1 [==============================] - 1s 603ms/step\n",
            "1/1 [==============================] - 1s 863ms/step\n",
            "1/1 [==============================] - 1s 907ms/step\n",
            "1/1 [==============================] - 1s 680ms/step\n",
            "1/1 [==============================] - 1s 613ms/step\n",
            "1/1 [==============================] - 1s 603ms/step\n",
            "1/1 [==============================] - 1s 1s/step\n",
            "1/1 [==============================] - 1s 600ms/step\n",
            "1/1 [==============================] - 1s 617ms/step\n",
            "1/1 [==============================] - 1s 612ms/step\n",
            "1/1 [==============================] - 1s 843ms/step\n",
            "1/1 [==============================] - 1s 1s/step\n",
            "1/1 [==============================] - 1s 1s/step\n",
            "1/1 [==============================] - 1s 880ms/step\n",
            "1/1 [==============================] - 1s 593ms/step\n",
            "1/1 [==============================] - 1s 610ms/step\n",
            "1/1 [==============================] - 1s 616ms/step\n",
            "1/1 [==============================] - 1s 619ms/step\n",
            "1/1 [==============================] - 1s 598ms/step\n",
            "1/1 [==============================] - 1s 594ms/step\n",
            "1/1 [==============================] - 1s 627ms/step\n",
            "1/1 [==============================] - 1s 1s/step\n",
            "1/1 [==============================] - 1s 880ms/step\n",
            "1/1 [==============================] - 1s 872ms/step\n",
            "1/1 [==============================] - 1s 620ms/step\n",
            "1/1 [==============================] - 1s 610ms/step\n",
            "1/1 [==============================] - 1s 614ms/step\n",
            "1/1 [==============================] - 1s 582ms/step\n",
            "1/1 [==============================] - 1s 599ms/step\n",
            "1/1 [==============================] - 1s 628ms/step\n",
            "1/1 [==============================] - 1s 592ms/step\n",
            "1/1 [==============================] - 1s 588ms/step\n",
            "1/1 [==============================] - 1s 844ms/step\n",
            "1/1 [==============================] - 1s 901ms/step\n",
            "1/1 [==============================] - 1s 620ms/step\n",
            "1/1 [==============================] - 1s 622ms/step\n",
            "1/1 [==============================] - 1s 597ms/step\n",
            "1/1 [==============================] - 1s 628ms/step\n",
            "1/1 [==============================] - 1s 620ms/step\n",
            "1/1 [==============================] - 1s 628ms/step\n",
            "1/1 [==============================] - 1s 617ms/step\n",
            "1/1 [==============================] - 1s 593ms/step\n",
            "1/1 [==============================] - 1s 857ms/step\n",
            "1/1 [==============================] - 1s 1s/step\n",
            "1/1 [==============================] - 1s 593ms/step\n",
            "1/1 [==============================] - 1s 619ms/step\n",
            "1/1 [==============================] - 1s 604ms/step\n",
            "1/1 [==============================] - 1s 603ms/step\n",
            "1/1 [==============================] - 1s 602ms/step\n",
            "1/1 [==============================] - 1s 601ms/step\n",
            "1/1 [==============================] - 1s 593ms/step\n",
            "1/1 [==============================] - 1s 602ms/step\n",
            "1/1 [==============================] - 1s 794ms/step\n",
            "1/1 [==============================] - 1s 878ms/step\n",
            "1/1 [==============================] - 1s 736ms/step\n",
            "1/1 [==============================] - 1s 610ms/step\n",
            "1/1 [==============================] - 1s 618ms/step\n",
            "1/1 [==============================] - 1s 617ms/step\n",
            "1/1 [==============================] - 1s 606ms/step\n",
            "1/1 [==============================] - 1s 614ms/step\n",
            "1/1 [==============================] - 1s 621ms/step\n",
            "1/1 [==============================] - 1s 599ms/step\n",
            "1/1 [==============================] - 1s 688ms/step\n",
            "1/1 [==============================] - 1s 887ms/step\n",
            "1/1 [==============================] - 1s 855ms/step\n",
            "1/1 [==============================] - 1s 618ms/step\n",
            "1/1 [==============================] - 1s 617ms/step\n",
            "1/1 [==============================] - 1s 603ms/step\n",
            "1/1 [==============================] - 1s 843ms/step\n",
            "1/1 [==============================] - 1s 910ms/step\n",
            "1/1 [==============================] - 1s 598ms/step\n",
            "1/1 [==============================] - 1s 615ms/step\n",
            "1/1 [==============================] - 1s 1s/step\n",
            "1/1 [==============================] - 1s 941ms/step\n",
            "1/1 [==============================] - 1s 600ms/step\n",
            "1/1 [==============================] - 1s 592ms/step\n",
            "1/1 [==============================] - 1s 584ms/step\n",
            "1/1 [==============================] - 1s 605ms/step\n",
            "1/1 [==============================] - 1s 630ms/step\n",
            "1/1 [==============================] - 1s 617ms/step\n",
            "1/1 [==============================] - 1s 602ms/step\n",
            "1/1 [==============================] - 1s 623ms/step\n",
            "1/1 [==============================] - 1s 841ms/step\n",
            "1/1 [==============================] - 1s 925ms/step\n",
            "1/1 [==============================] - 1s 605ms/step\n",
            "1/1 [==============================] - 1s 592ms/step\n",
            "1/1 [==============================] - 1s 587ms/step\n",
            "1/1 [==============================] - 1s 1s/step\n",
            "1/1 [==============================] - 1s 603ms/step\n",
            "1/1 [==============================] - 1s 599ms/step\n",
            "1/1 [==============================] - 1s 601ms/step\n",
            "1/1 [==============================] - 1s 610ms/step\n",
            "1/1 [==============================] - 1s 847ms/step\n",
            "1/1 [==============================] - 1s 893ms/step\n",
            "1/1 [==============================] - 1s 816ms/step\n",
            "1/1 [==============================] - 1s 611ms/step\n",
            "1/1 [==============================] - 1s 609ms/step\n",
            "1/1 [==============================] - 1s 590ms/step\n",
            "1/1 [==============================] - 1s 598ms/step\n",
            "1/1 [==============================] - 1s 600ms/step\n",
            "1/1 [==============================] - 1s 605ms/step\n",
            "1/1 [==============================] - 1s 625ms/step\n",
            "1/1 [==============================] - 1s 741ms/step\n",
            "1/1 [==============================] - 1s 871ms/step\n",
            "1/1 [==============================] - 1s 900ms/step\n",
            "1/1 [==============================] - 1s 628ms/step\n",
            "1/1 [==============================] - 1s 603ms/step\n",
            "1/1 [==============================] - 1s 599ms/step\n",
            "1/1 [==============================] - 1s 599ms/step\n",
            "1/1 [==============================] - 1s 1s/step\n",
            "1/1 [==============================] - 1s 606ms/step\n",
            "1/1 [==============================] - 1s 633ms/step\n",
            "1/1 [==============================] - 1s 608ms/step\n",
            "1/1 [==============================] - 1s 877ms/step\n",
            "1/1 [==============================] - 1s 923ms/step\n",
            "1/1 [==============================] - 1s 597ms/step\n",
            "1/1 [==============================] - 1s 591ms/step\n",
            "1/1 [==============================] - 1s 623ms/step\n",
            "1/1 [==============================] - 1s 593ms/step\n",
            "1/1 [==============================] - 1s 597ms/step\n",
            "1/1 [==============================] - 1s 602ms/step\n",
            "1/1 [==============================] - 1s 603ms/step\n",
            "1/1 [==============================] - 1s 626ms/step\n",
            "1/1 [==============================] - 1s 838ms/step\n",
            "1/1 [==============================] - 2s 2s/step\n",
            "1/1 [==============================] - 1s 611ms/step\n",
            "1/1 [==============================] - 1s 665ms/step\n",
            "1/1 [==============================] - 1s 632ms/step\n",
            "1/1 [==============================] - 1s 598ms/step\n",
            "1/1 [==============================] - 1s 595ms/step\n",
            "1/1 [==============================] - 1s 604ms/step\n",
            "1/1 [==============================] - 1s 602ms/step\n",
            "1/1 [==============================] - 1s 607ms/step\n",
            "1/1 [==============================] - 1s 1s/step\n",
            "1/1 [==============================] - 1s 948ms/step\n",
            "1/1 [==============================] - 1s 1s/step\n",
            "1/1 [==============================] - 1s 621ms/step\n",
            "1/1 [==============================] - 1s 595ms/step\n",
            "1/1 [==============================] - 1s 619ms/step\n",
            "1/1 [==============================] - 1s 1s/step\n",
            "1/1 [==============================] - 1s 601ms/step\n",
            "1/1 [==============================] - 1s 612ms/step\n",
            "1/1 [==============================] - 1s 621ms/step\n",
            "1/1 [==============================] - 1s 597ms/step\n",
            "1/1 [==============================] - 1s 812ms/step\n",
            "1/1 [==============================] - 1s 882ms/step\n",
            "1/1 [==============================] - 1s 801ms/step\n",
            "1/1 [==============================] - 1s 605ms/step\n",
            "1/1 [==============================] - 1s 598ms/step\n",
            "1/1 [==============================] - 1s 599ms/step\n",
            "1/1 [==============================] - 1s 616ms/step\n",
            "1/1 [==============================] - 1s 631ms/step\n",
            "1/1 [==============================] - 1s 628ms/step\n",
            "1/1 [==============================] - 1s 605ms/step\n",
            "1/1 [==============================] - 1s 824ms/step\n",
            "1/1 [==============================] - 1s 897ms/step\n",
            "1/1 [==============================] - 1s 706ms/step\n",
            "1/1 [==============================] - 1s 649ms/step\n",
            "1/1 [==============================] - 1s 595ms/step\n",
            "1/1 [==============================] - 1s 614ms/step\n",
            "1/1 [==============================] - 1s 610ms/step\n",
            "1/1 [==============================] - 1s 1s/step\n",
            "1/1 [==============================] - 1s 616ms/step\n",
            "1/1 [==============================] - 1s 608ms/step\n",
            "1/1 [==============================] - 1s 706ms/step\n",
            "1/1 [==============================] - 1s 832ms/step\n",
            "1/1 [==============================] - 1s 927ms/step\n",
            "1/1 [==============================] - 1s 576ms/step\n",
            "1/1 [==============================] - 1s 613ms/step\n",
            "1/1 [==============================] - 1s 603ms/step\n",
            "1/1 [==============================] - 1s 591ms/step\n",
            "1/1 [==============================] - 1s 600ms/step\n",
            "1/1 [==============================] - 1s 616ms/step\n",
            "1/1 [==============================] - 1s 626ms/step\n",
            "1/1 [==============================] - 1s 620ms/step\n",
            "1/1 [==============================] - 1s 873ms/step\n",
            "1/1 [==============================] - 1s 1s/step\n",
            "1/1 [==============================] - 1s 649ms/step\n",
            "1/1 [==============================] - 1s 604ms/step\n",
            "1/1 [==============================] - 1s 593ms/step\n",
            "1/1 [==============================] - 1s 590ms/step\n",
            "1/1 [==============================] - 1s 595ms/step\n",
            "1/1 [==============================] - 1s 602ms/step\n",
            "1/1 [==============================] - 1s 610ms/step\n",
            "1/1 [==============================] - 1s 615ms/step\n",
            "1/1 [==============================] - 1s 877ms/step\n",
            "1/1 [==============================] - 1s 901ms/step\n",
            "1/1 [==============================] - 1s 773ms/step\n",
            "1/1 [==============================] - 1s 595ms/step\n",
            "1/1 [==============================] - 1s 604ms/step\n",
            "1/1 [==============================] - 1s 610ms/step\n",
            "1/1 [==============================] - 1s 885ms/step\n",
            "1/1 [==============================] - 1s 913ms/step\n",
            "1/1 [==============================] - 1s 603ms/step\n",
            "1/1 [==============================] - 1s 623ms/step\n",
            "1/1 [==============================] - 1s 860ms/step\n",
            "1/1 [==============================] - 1s 925ms/step\n",
            "1/1 [==============================] - 1s 592ms/step\n",
            "1/1 [==============================] - 1s 1s/step\n",
            "1/1 [==============================] - 1s 618ms/step\n",
            "1/1 [==============================] - 1s 600ms/step\n",
            "1/1 [==============================] - 1s 600ms/step\n",
            "1/1 [==============================] - 1s 593ms/step\n",
            "1/1 [==============================] - 1s 594ms/step\n",
            "1/1 [==============================] - 1s 591ms/step\n",
            "1/1 [==============================] - 1s 810ms/step\n",
            "1/1 [==============================] - 1s 939ms/step\n",
            "1/1 [==============================] - 1s 681ms/step\n",
            "1/1 [==============================] - 1s 589ms/step\n",
            "1/1 [==============================] - 1s 582ms/step\n",
            "1/1 [==============================] - 1s 599ms/step\n",
            "1/1 [==============================] - 1s 598ms/step\n",
            "1/1 [==============================] - 1s 607ms/step\n",
            "1/1 [==============================] - 1s 1s/step\n",
            "1/1 [==============================] - 1s 584ms/step\n",
            "1/1 [==============================] - 1s 664ms/step\n",
            "1/1 [==============================] - 1s 858ms/step\n",
            "1/1 [==============================] - 1s 918ms/step\n",
            "1/1 [==============================] - 1s 592ms/step\n",
            "1/1 [==============================] - 1s 597ms/step\n",
            "1/1 [==============================] - 1s 590ms/step\n",
            "1/1 [==============================] - 1s 615ms/step\n",
            "1/1 [==============================] - 1s 604ms/step\n",
            "1/1 [==============================] - 1s 595ms/step\n",
            "1/1 [==============================] - 1s 594ms/step\n",
            "1/1 [==============================] - 1s 597ms/step\n",
            "1/1 [==============================] - 1s 865ms/step\n",
            "1/1 [==============================] - 1s 899ms/step\n",
            "1/1 [==============================] - 1s 638ms/step\n",
            "1/1 [==============================] - 1s 618ms/step\n",
            "1/1 [==============================] - 1s 602ms/step\n",
            "1/1 [==============================] - 1s 595ms/step\n",
            "1/1 [==============================] - 1s 601ms/step\n",
            "1/1 [==============================] - 1s 595ms/step\n",
            "1/1 [==============================] - 1s 616ms/step\n",
            "1/1 [==============================] - 1s 1s/step\n",
            "1/1 [==============================] - 1s 896ms/step\n",
            "1/1 [==============================] - 1s 896ms/step\n",
            "1/1 [==============================] - 1s 663ms/step\n",
            "1/1 [==============================] - 1s 609ms/step\n",
            "1/1 [==============================] - 1s 614ms/step\n",
            "1/1 [==============================] - 1s 593ms/step\n",
            "1/1 [==============================] - 1s 587ms/step\n",
            "1/1 [==============================] - 1s 623ms/step\n",
            "1/1 [==============================] - 1s 603ms/step\n",
            "1/1 [==============================] - 1s 606ms/step\n",
            "1/1 [==============================] - 1s 719ms/step\n",
            "1/1 [==============================] - 1s 855ms/step\n",
            "1/1 [==============================] - 1s 914ms/step\n",
            "1/1 [==============================] - 1s 605ms/step\n",
            "1/1 [==============================] - 1s 1s/step\n",
            "1/1 [==============================] - 1s 619ms/step\n",
            "1/1 [==============================] - 1s 625ms/step\n",
            "1/1 [==============================] - 1s 601ms/step\n",
            "1/1 [==============================] - 1s 602ms/step\n",
            "1/1 [==============================] - 1s 609ms/step\n",
            "1/1 [==============================] - 1s 880ms/step\n",
            "1/1 [==============================] - 1s 1s/step\n",
            "1/1 [==============================] - 1s 951ms/step\n",
            "1/1 [==============================] - 1s 632ms/step\n",
            "1/1 [==============================] - 1s 583ms/step\n",
            "1/1 [==============================] - 1s 591ms/step\n",
            "1/1 [==============================] - 1s 591ms/step\n",
            "1/1 [==============================] - 1s 616ms/step\n",
            "1/1 [==============================] - 1s 613ms/step\n",
            "1/1 [==============================] - 1s 598ms/step\n",
            "1/1 [==============================] - 1s 606ms/step\n",
            "1/1 [==============================] - 1s 869ms/step\n",
            "1/1 [==============================] - 1s 898ms/step\n",
            "1/1 [==============================] - 1s 653ms/step\n",
            "1/1 [==============================] - 1s 602ms/step\n",
            "1/1 [==============================] - 1s 587ms/step\n",
            "1/1 [==============================] - 1s 1s/step\n",
            "1/1 [==============================] - 1s 616ms/step\n",
            "1/1 [==============================] - 1s 591ms/step\n",
            "1/1 [==============================] - 1s 597ms/step\n",
            "1/1 [==============================] - 1s 607ms/step\n",
            "1/1 [==============================] - 1s 748ms/step\n",
            "1/1 [==============================] - 1s 854ms/step\n",
            "1/1 [==============================] - 1s 780ms/step\n",
            "1/1 [==============================] - 1s 626ms/step\n",
            "1/1 [==============================] - 1s 627ms/step\n",
            "1/1 [==============================] - 1s 598ms/step\n",
            "1/1 [==============================] - 1s 595ms/step\n",
            "1/1 [==============================] - 1s 580ms/step\n",
            "1/1 [==============================] - 1s 598ms/step\n",
            "1/1 [==============================] - 1s 609ms/step\n",
            "1/1 [==============================] - 1s 850ms/step\n",
            "1/1 [==============================] - 1s 891ms/step\n",
            "1/1 [==============================] - 1s 682ms/step\n",
            "1/1 [==============================] - 1s 634ms/step\n",
            "1/1 [==============================] - 1s 612ms/step\n",
            "1/1 [==============================] - 1s 607ms/step\n",
            "1/1 [==============================] - 1s 604ms/step\n",
            "1/1 [==============================] - 1s 1s/step\n",
            "1/1 [==============================] - 1s 637ms/step\n",
            "1/1 [==============================] - 1s 603ms/step\n",
            "1/1 [==============================] - 1s 717ms/step\n",
            "1/1 [==============================] - 1s 872ms/step\n",
            "1/1 [==============================] - 1s 913ms/step\n",
            "1/1 [==============================] - 1s 616ms/step\n",
            "1/1 [==============================] - 1s 603ms/step\n",
            "1/1 [==============================] - 1s 612ms/step\n",
            "1/1 [==============================] - 1s 599ms/step\n",
            "1/1 [==============================] - 1s 602ms/step\n",
            "1/1 [==============================] - 1s 608ms/step\n",
            "1/1 [==============================] - 1s 613ms/step\n",
            "1/1 [==============================] - 1s 607ms/step\n",
            "1/1 [==============================] - 1s 859ms/step\n",
            "1/1 [==============================] - 1s 1s/step\n",
            "1/1 [==============================] - 1s 602ms/step\n",
            "1/1 [==============================] - 1s 619ms/step\n",
            "1/1 [==============================] - 1s 609ms/step\n",
            "1/1 [==============================] - 1s 763ms/step\n",
            "1/1 [==============================] - 1s 857ms/step\n",
            "1/1 [==============================] - 1s 841ms/step\n",
            "1/1 [==============================] - 1s 603ms/step\n",
            "1/1 [==============================] - 1s 880ms/step\n",
            "1/1 [==============================] - 1s 948ms/step\n",
            "1/1 [==============================] - 1s 625ms/step\n",
            "1/1 [==============================] - 1s 599ms/step\n",
            "1/1 [==============================] - 1s 608ms/step\n",
            "1/1 [==============================] - 1s 593ms/step\n",
            "1/1 [==============================] - 1s 602ms/step\n",
            "1/1 [==============================] - 1s 1s/step\n",
            "1/1 [==============================] - 1s 624ms/step\n",
            "1/1 [==============================] - 1s 599ms/step\n",
            "1/1 [==============================] - 1s 898ms/step\n",
            "1/1 [==============================] - 1s 914ms/step\n",
            "1/1 [==============================] - 1s 655ms/step\n",
            "1/1 [==============================] - 1s 610ms/step\n",
            "1/1 [==============================] - 1s 600ms/step\n",
            "1/1 [==============================] - 1s 612ms/step\n",
            "1/1 [==============================] - 1s 611ms/step\n",
            "1/1 [==============================] - 1s 635ms/step\n",
            "1/1 [==============================] - 1s 610ms/step\n",
            "1/1 [==============================] - 1s 591ms/step\n",
            "1/1 [==============================] - 1s 727ms/step\n",
            "1/1 [==============================] - 1s 860ms/step\n",
            "1/1 [==============================] - 1s 633ms/step\n",
            "1/1 [==============================] - 1s 614ms/step\n",
            "1/1 [==============================] - 1s 598ms/step\n",
            "1/1 [==============================] - 1s 596ms/step\n",
            "1/1 [==============================] - 1s 612ms/step\n",
            "1/1 [==============================] - 1s 595ms/step\n",
            "1/1 [==============================] - 1s 620ms/step\n",
            "1/1 [==============================] - 1s 1s/step\n",
            "1/1 [==============================] - 1s 808ms/step\n",
            "1/1 [==============================] - 1s 865ms/step\n",
            "1/1 [==============================] - 1s 907ms/step\n",
            "1/1 [==============================] - 1s 614ms/step\n",
            "1/1 [==============================] - 1s 615ms/step\n",
            "1/1 [==============================] - 1s 612ms/step\n",
            "1/1 [==============================] - 1s 594ms/step\n",
            "1/1 [==============================] - 1s 625ms/step\n",
            "1/1 [==============================] - 1s 634ms/step\n",
            "1/1 [==============================] - 1s 628ms/step\n",
            "1/1 [==============================] - 1s 598ms/step\n",
            "1/1 [==============================] - 1s 863ms/step\n",
            "1/1 [==============================] - 1s 920ms/step\n",
            "1/1 [==============================] - 1s 597ms/step\n",
            "1/1 [==============================] - 1s 1s/step\n",
            "1/1 [==============================] - 1s 604ms/step\n",
            "1/1 [==============================] - 1s 613ms/step\n",
            "1/1 [==============================] - 1s 604ms/step\n",
            "1/1 [==============================] - 1s 619ms/step\n",
            "1/1 [==============================] - 1s 603ms/step\n",
            "1/1 [==============================] - 1s 603ms/step\n",
            "1/1 [==============================] - 1s 1s/step\n",
            "1/1 [==============================] - 1s 937ms/step\n",
            "1/1 [==============================] - 1s 612ms/step\n",
            "1/1 [==============================] - 1s 611ms/step\n",
            "1/1 [==============================] - 1s 609ms/step\n",
            "1/1 [==============================] - 1s 622ms/step\n",
            "1/1 [==============================] - 1s 612ms/step\n",
            "1/1 [==============================] - 1s 605ms/step\n",
            "1/1 [==============================] - 1s 848ms/step\n",
            "1/1 [==============================] - 1s 927ms/step\n",
            "1/1 [==============================] - 1s 944ms/step\n",
            "1/1 [==============================] - 1s 924ms/step\n",
            "1/1 [==============================] - 1s 781ms/step\n",
            "1/1 [==============================] - 1s 626ms/step\n",
            "1/1 [==============================] - 1s 617ms/step\n",
            "1/1 [==============================] - 1s 1s/step\n",
            "1/1 [==============================] - 1s 613ms/step\n",
            "1/1 [==============================] - 1s 615ms/step\n",
            "1/1 [==============================] - 1s 610ms/step\n",
            "1/1 [==============================] - 1s 635ms/step\n",
            "1/1 [==============================] - 1s 791ms/step\n",
            "1/1 [==============================] - 1s 874ms/step\n",
            "1/1 [==============================] - 1s 721ms/step\n",
            "1/1 [==============================] - 1s 624ms/step\n",
            "1/1 [==============================] - 1s 629ms/step\n",
            "1/1 [==============================] - 1s 607ms/step\n",
            "1/1 [==============================] - 1s 642ms/step\n",
            "1/1 [==============================] - 1s 614ms/step\n",
            "1/1 [==============================] - 1s 627ms/step\n",
            "1/1 [==============================] - 1s 610ms/step\n",
            "1/1 [==============================] - 1s 1s/step\n",
            "1/1 [==============================] - 1s 912ms/step\n",
            "1/1 [==============================] - 1s 619ms/step\n",
            "1/1 [==============================] - 1s 601ms/step\n",
            "1/1 [==============================] - 1s 613ms/step\n",
            "1/1 [==============================] - 1s 607ms/step\n",
            "1/1 [==============================] - 1s 593ms/step\n",
            "1/1 [==============================] - 1s 599ms/step\n",
            "1/1 [==============================] - 1s 614ms/step\n",
            "1/1 [==============================] - 1s 610ms/step\n",
            "1/1 [==============================] - 1s 854ms/step\n",
            "1/1 [==============================] - 1s 879ms/step\n",
            "1/1 [==============================] - 1s 712ms/step\n",
            "1/1 [==============================] - 1s 613ms/step\n",
            "1/1 [==============================] - 1s 595ms/step\n",
            "1/1 [==============================] - 1s 627ms/step\n",
            "1/1 [==============================] - 1s 609ms/step\n",
            "1/1 [==============================] - 1s 605ms/step\n",
            "1/1 [==============================] - 1s 606ms/step\n",
            "1/1 [==============================] - 1s 643ms/step\n",
            "1/1 [==============================] - 1s 717ms/step\n",
            "1/1 [==============================] - 1s 834ms/step\n",
            "1/1 [==============================] - 1s 1s/step\n",
            "1/1 [==============================] - 1s 632ms/step\n",
            "1/1 [==============================] - 1s 613ms/step\n",
            "1/1 [==============================] - 1s 621ms/step\n",
            "1/1 [==============================] - 1s 605ms/step\n",
            "1/1 [==============================] - 1s 593ms/step\n",
            "1/1 [==============================] - 1s 609ms/step\n",
            "1/1 [==============================] - 1s 597ms/step\n",
            "1/1 [==============================] - 1s 674ms/step\n",
            "1/1 [==============================] - 1s 861ms/step\n",
            "1/1 [==============================] - 1s 913ms/step\n",
            "1/1 [==============================] - 1s 610ms/step\n",
            "1/1 [==============================] - 1s 651ms/step\n",
            "1/1 [==============================] - 1s 644ms/step\n",
            "1/1 [==============================] - 1s 844ms/step\n",
            "1/1 [==============================] - 1s 1s/step\n",
            "1/1 [==============================] - 1s 609ms/step\n",
            "1/1 [==============================] - 1s 604ms/step\n",
            "1/1 [==============================] - 1s 881ms/step\n",
            "1/1 [==============================] - 1s 908ms/step\n",
            "1/1 [==============================] - 1s 792ms/step\n",
            "1/1 [==============================] - 1s 583ms/step\n",
            "1/1 [==============================] - 1s 603ms/step\n",
            "1/1 [==============================] - 1s 610ms/step\n",
            "1/1 [==============================] - 1s 595ms/step\n",
            "1/1 [==============================] - 1s 594ms/step\n",
            "1/1 [==============================] - 1s 616ms/step\n",
            "1/1 [==============================] - 1s 653ms/step\n",
            "1/1 [==============================] - 1s 671ms/step\n",
            "1/1 [==============================] - 1s 825ms/step\n",
            "1/1 [==============================] - 1s 688ms/step\n",
            "1/1 [==============================] - 1s 619ms/step\n",
            "1/1 [==============================] - 1s 626ms/step\n",
            "1/1 [==============================] - 1s 609ms/step\n",
            "1/1 [==============================] - 1s 604ms/step\n",
            "1/1 [==============================] - 1s 589ms/step\n",
            "1/1 [==============================] - 1s 603ms/step\n",
            "1/1 [==============================] - 1s 1s/step\n",
            "1/1 [==============================] - 1s 720ms/step\n",
            "1/1 [==============================] - 1s 862ms/step\n",
            "1/1 [==============================] - 1s 912ms/step\n",
            "1/1 [==============================] - 1s 633ms/step\n",
            "1/1 [==============================] - 1s 598ms/step\n",
            "1/1 [==============================] - 1s 585ms/step\n",
            "1/1 [==============================] - 1s 599ms/step\n",
            "1/1 [==============================] - 1s 609ms/step\n",
            "1/1 [==============================] - 1s 599ms/step\n",
            "1/1 [==============================] - 1s 589ms/step\n",
            "1/1 [==============================] - 1s 610ms/step\n",
            "1/1 [==============================] - 1s 857ms/step\n",
            "1/1 [==============================] - 1s 927ms/step\n",
            "1/1 [==============================] - 1s 597ms/step\n",
            "1/1 [==============================] - 1s 1s/step\n",
            "1/1 [==============================] - 1s 634ms/step\n",
            "1/1 [==============================] - 1s 607ms/step\n",
            "1/1 [==============================] - 1s 605ms/step\n",
            "1/1 [==============================] - 1s 601ms/step\n",
            "1/1 [==============================] - 1s 598ms/step\n",
            "1/1 [==============================] - 1s 615ms/step\n",
            "1/1 [==============================] - 1s 875ms/step\n",
            "1/1 [==============================] - 1s 933ms/step\n",
            "1/1 [==============================] - 1s 624ms/step\n",
            "1/1 [==============================] - 1s 617ms/step\n",
            "1/1 [==============================] - 1s 606ms/step\n",
            "1/1 [==============================] - 1s 593ms/step\n",
            "1/1 [==============================] - 1s 603ms/step\n",
            "1/1 [==============================] - 1s 598ms/step\n",
            "1/1 [==============================] - 1s 619ms/step\n",
            "1/1 [==============================] - 1s 601ms/step\n",
            "1/1 [==============================] - 1s 868ms/step\n",
            "1/1 [==============================] - 1s 922ms/step\n",
            "1/1 [==============================] - 1s 730ms/step\n",
            "1/1 [==============================] - 1s 594ms/step\n",
            "1/1 [==============================] - 1s 609ms/step\n",
            "1/1 [==============================] - 1s 1s/step\n",
            "1/1 [==============================] - 1s 620ms/step\n",
            "1/1 [==============================] - 1s 622ms/step\n",
            "1/1 [==============================] - 1s 861ms/step\n",
            "1/1 [==============================] - 1s 933ms/step\n",
            "1/1 [==============================] - 1s 994ms/step\n",
            "1/1 [==============================] - 1s 904ms/step\n",
            "1/1 [==============================] - 1s 606ms/step\n",
            "1/1 [==============================] - 1s 623ms/step\n",
            "1/1 [==============================] - 1s 613ms/step\n",
            "1/1 [==============================] - 1s 595ms/step\n",
            "1/1 [==============================] - 1s 599ms/step\n",
            "1/1 [==============================] - 1s 602ms/step\n",
            "1/1 [==============================] - 1s 617ms/step\n",
            "1/1 [==============================] - 1s 630ms/step\n",
            "1/1 [==============================] - 1s 1s/step\n",
            "1/1 [==============================] - 1s 903ms/step\n",
            "1/1 [==============================] - 1s 628ms/step\n",
            "1/1 [==============================] - 1s 604ms/step\n",
            "1/1 [==============================] - 1s 607ms/step\n",
            "1/1 [==============================] - 1s 601ms/step\n",
            "1/1 [==============================] - 1s 587ms/step\n",
            "1/1 [==============================] - 1s 602ms/step\n",
            "1/1 [==============================] - 1s 625ms/step\n",
            "1/1 [==============================] - 1s 607ms/step\n",
            "1/1 [==============================] - 1s 837ms/step\n",
            "1/1 [==============================] - 1s 913ms/step\n",
            "1/1 [==============================] - 1s 647ms/step\n",
            "1/1 [==============================] - 1s 594ms/step\n",
            "1/1 [==============================] - 1s 601ms/step\n",
            "1/1 [==============================] - 1s 612ms/step\n",
            "1/1 [==============================] - 1s 595ms/step\n",
            "1/1 [==============================] - 1s 609ms/step\n",
            "1/1 [==============================] - 1s 603ms/step\n",
            "1/1 [==============================] - 1s 621ms/step\n",
            "1/1 [==============================] - 1s 737ms/step\n",
            "1/1 [==============================] - 1s 842ms/step\n",
            "1/1 [==============================] - 1s 669ms/step\n",
            "1/1 [==============================] - 1s 618ms/step\n",
            "1/1 [==============================] - 1s 627ms/step\n",
            "1/1 [==============================] - 1s 621ms/step\n",
            "1/1 [==============================] - 1s 606ms/step\n",
            "1/1 [==============================] - 1s 593ms/step\n",
            "1/1 [==============================] - 1s 587ms/step\n",
            "1/1 [==============================] - 1s 1s/step\n",
            "1/1 [==============================] - 1s 752ms/step\n",
            "1/1 [==============================] - 1s 880ms/step\n",
            "1/1 [==============================] - 1s 804ms/step\n",
            "1/1 [==============================] - 1s 607ms/step\n",
            "1/1 [==============================] - 1s 618ms/step\n",
            "1/1 [==============================] - 1s 594ms/step\n",
            "1/1 [==============================] - 1s 602ms/step\n",
            "1/1 [==============================] - 1s 630ms/step\n",
            "1/1 [==============================] - 1s 614ms/step\n",
            "1/1 [==============================] - 1s 597ms/step\n",
            "1/1 [==============================] - 1s 613ms/step\n",
            "1/1 [==============================] - 1s 849ms/step\n",
            "1/1 [==============================] - 1s 967ms/step\n",
            "1/1 [==============================] - 1s 596ms/step\n",
            "1/1 [==============================] - 1s 1s/step\n",
            "1/1 [==============================] - 1s 874ms/step\n",
            "1/1 [==============================] - 1s 876ms/step\n",
            "1/1 [==============================] - 1s 611ms/step\n",
            "1/1 [==============================] - 1s 589ms/step\n",
            "1/1 [==============================] - 1s 602ms/step\n",
            "1/1 [==============================] - 1s 869ms/step\n",
            "1/1 [==============================] - 1s 905ms/step\n",
            "1/1 [==============================] - 1s 610ms/step\n",
            "1/1 [==============================] - 1s 607ms/step\n",
            "1/1 [==============================] - 1s 625ms/step\n",
            "1/1 [==============================] - 1s 611ms/step\n",
            "1/1 [==============================] - 1s 604ms/step\n",
            "1/1 [==============================] - 1s 607ms/step\n",
            "1/1 [==============================] - 1s 600ms/step\n",
            "1/1 [==============================] - 1s 621ms/step\n",
            "1/1 [==============================] - 1s 857ms/step\n",
            "1/1 [==============================] - 1s 922ms/step\n",
            "1/1 [==============================] - 1s 597ms/step\n",
            "1/1 [==============================] - 1s 607ms/step\n",
            "1/1 [==============================] - 1s 634ms/step\n",
            "1/1 [==============================] - 1s 592ms/step\n",
            "1/1 [==============================] - 1s 1s/step\n",
            "1/1 [==============================] - 1s 622ms/step\n",
            "1/1 [==============================] - 1s 624ms/step\n",
            "1/1 [==============================] - 1s 597ms/step\n",
            "1/1 [==============================] - 1s 807ms/step\n",
            "1/1 [==============================] - 1s 901ms/step\n",
            "1/1 [==============================] - 1s 675ms/step\n",
            "1/1 [==============================] - 1s 615ms/step\n",
            "1/1 [==============================] - 1s 604ms/step\n",
            "1/1 [==============================] - 1s 609ms/step\n",
            "1/1 [==============================] - 1s 615ms/step\n",
            "1/1 [==============================] - 1s 625ms/step\n",
            "1/1 [==============================] - 1s 616ms/step\n",
            "1/1 [==============================] - 1s 604ms/step\n",
            "1/1 [==============================] - 1s 714ms/step\n",
            "1/1 [==============================] - 1s 1s/step\n",
            "1/1 [==============================] - 1s 622ms/step\n",
            "1/1 [==============================] - 1s 598ms/step\n",
            "1/1 [==============================] - 1s 596ms/step\n",
            "1/1 [==============================] - 1s 601ms/step\n",
            "1/1 [==============================] - 1s 618ms/step\n",
            "1/1 [==============================] - 1s 649ms/step\n",
            "1/1 [==============================] - 1s 618ms/step\n",
            "1/1 [==============================] - 1s 631ms/step\n",
            "1/1 [==============================] - 1s 852ms/step\n",
            "1/1 [==============================] - 1s 887ms/step\n",
            "1/1 [==============================] - 1s 687ms/step\n",
            "1/1 [==============================] - 1s 596ms/step\n",
            "1/1 [==============================] - 1s 604ms/step\n",
            "1/1 [==============================] - 1s 603ms/step\n",
            "1/1 [==============================] - 1s 616ms/step\n",
            "1/1 [==============================] - 1s 613ms/step\n",
            "1/1 [==============================] - 1s 608ms/step\n",
            "1/1 [==============================] - 1s 636ms/step\n",
            "1/1 [==============================] - 1s 747ms/step\n",
            "1/1 [==============================] - 1s 849ms/step\n",
            "1/1 [==============================] - 1s 886ms/step\n",
            "1/1 [==============================] - 1s 1s/step\n",
            "1/1 [==============================] - 1s 614ms/step\n",
            "1/1 [==============================] - 1s 643ms/step\n",
            "1/1 [==============================] - 1s 600ms/step\n",
            "1/1 [==============================] - 1s 623ms/step\n",
            "1/1 [==============================] - 1s 625ms/step\n",
            "1/1 [==============================] - 1s 852ms/step\n",
            "1/1 [==============================] - 1s 1s/step\n",
            "1/1 [==============================] - 1s 1s/step\n",
            "1/1 [==============================] - 1s 796ms/step\n",
            "1/1 [==============================] - 1s 605ms/step\n",
            "1/1 [==============================] - 1s 609ms/step\n",
            "1/1 [==============================] - 1s 601ms/step\n",
            "1/1 [==============================] - 1s 616ms/step\n",
            "1/1 [==============================] - 1s 592ms/step\n",
            "1/1 [==============================] - 1s 632ms/step\n",
            "1/1 [==============================] - 1s 635ms/step\n",
            "1/1 [==============================] - 1s 595ms/step\n",
            "1/1 [==============================] - 1s 873ms/step\n",
            "1/1 [==============================] - 1s 897ms/step\n",
            "1/1 [==============================] - 1s 615ms/step\n",
            "1/1 [==============================] - 1s 612ms/step\n",
            "1/1 [==============================] - 1s 1s/step\n",
            "1/1 [==============================] - 1s 625ms/step\n",
            "1/1 [==============================] - 1s 613ms/step\n",
            "1/1 [==============================] - 1s 613ms/step\n",
            "1/1 [==============================] - 1s 600ms/step\n",
            "1/1 [==============================] - 1s 612ms/step\n",
            "1/1 [==============================] - 1s 874ms/step\n",
            "1/1 [==============================] - 1s 903ms/step\n",
            "1/1 [==============================] - 1s 615ms/step\n",
            "1/1 [==============================] - 1s 601ms/step\n",
            "1/1 [==============================] - 1s 626ms/step\n",
            "1/1 [==============================] - 1s 616ms/step\n",
            "1/1 [==============================] - 1s 614ms/step\n",
            "1/1 [==============================] - 1s 594ms/step\n",
            "1/1 [==============================] - 1s 593ms/step\n",
            "1/1 [==============================] - 1s 1s/step\n",
            "1/1 [==============================] - 1s 880ms/step\n",
            "1/1 [==============================] - 1s 936ms/step\n",
            "1/1 [==============================] - 1s 597ms/step\n",
            "1/1 [==============================] - 1s 592ms/step\n",
            "1/1 [==============================] - 1s 626ms/step\n",
            "1/1 [==============================] - 1s 621ms/step\n",
            "1/1 [==============================] - 1s 593ms/step\n",
            "1/1 [==============================] - 1s 620ms/step\n",
            "1/1 [==============================] - 1s 621ms/step\n",
            "1/1 [==============================] - 1s 631ms/step\n",
            "1/1 [==============================] - 1s 843ms/step\n",
            "1/1 [==============================] - 1s 902ms/step\n",
            "1/1 [==============================] - 1s 696ms/step\n",
            "1/1 [==============================] - 1s 619ms/step\n",
            "1/1 [==============================] - 1s 629ms/step\n",
            "1/1 [==============================] - 1s 628ms/step\n",
            "1/1 [==============================] - 1s 622ms/step\n",
            "1/1 [==============================] - 1s 614ms/step\n",
            "1/1 [==============================] - 1s 600ms/step\n",
            "1/1 [==============================] - 1s 595ms/step\n",
            "1/1 [==============================] - 1s 742ms/step\n",
            "1/1 [==============================] - 2s 2s/step\n",
            "1/1 [==============================] - 1s 702ms/step\n",
            "1/1 [==============================] - 1s 682ms/step\n",
            "1/1 [==============================] - 1s 862ms/step\n",
            "1/1 [==============================] - 1s 913ms/step\n",
            "1/1 [==============================] - 1s 626ms/step\n",
            "1/1 [==============================] - 1s 606ms/step\n",
            "1/1 [==============================] - 1s 598ms/step\n",
            "1/1 [==============================] - 1s 757ms/step\n",
            "1/1 [==============================] - 1s 873ms/step\n",
            "1/1 [==============================] - 1s 821ms/step\n",
            "1/1 [==============================] - 1s 615ms/step\n",
            "1/1 [==============================] - 1s 627ms/step\n",
            "1/1 [==============================] - 1s 626ms/step\n",
            "1/1 [==============================] - 1s 598ms/step\n",
            "1/1 [==============================] - 1s 1s/step\n",
            "1/1 [==============================] - 1s 628ms/step\n",
            "1/1 [==============================] - 1s 630ms/step\n",
            "1/1 [==============================] - 1s 606ms/step\n",
            "1/1 [==============================] - 1s 854ms/step\n",
            "1/1 [==============================] - 1s 900ms/step\n",
            "1/1 [==============================] - 1s 613ms/step\n",
            "1/1 [==============================] - 1s 615ms/step\n",
            "1/1 [==============================] - 1s 610ms/step\n",
            "1/1 [==============================] - 1s 619ms/step\n",
            "1/1 [==============================] - 1s 620ms/step\n",
            "1/1 [==============================] - 1s 624ms/step\n",
            "1/1 [==============================] - 1s 602ms/step\n",
            "1/1 [==============================] - 1s 594ms/step\n",
            "1/1 [==============================] - 1s 862ms/step\n",
            "1/1 [==============================] - 1s 828ms/step\n",
            "1/1 [==============================] - 1s 615ms/step\n",
            "1/1 [==============================] - 1s 601ms/step\n",
            "1/1 [==============================] - 1s 610ms/step\n",
            "1/1 [==============================] - 1s 605ms/step\n",
            "1/1 [==============================] - 1s 612ms/step\n",
            "1/1 [==============================] - 1s 636ms/step\n",
            "1/1 [==============================] - 1s 1s/step\n",
            "1/1 [==============================] - 1s 667ms/step\n",
            "1/1 [==============================] - 1s 851ms/step\n",
            "1/1 [==============================] - 1s 901ms/step\n",
            "1/1 [==============================] - 1s 605ms/step\n",
            "1/1 [==============================] - 1s 629ms/step\n",
            "1/1 [==============================] - 1s 622ms/step\n",
            "1/1 [==============================] - 1s 602ms/step\n",
            "1/1 [==============================] - 1s 620ms/step\n",
            "1/1 [==============================] - 1s 625ms/step\n",
            "1/1 [==============================] - 1s 627ms/step\n",
            "1/1 [==============================] - 1s 608ms/step\n",
            "1/1 [==============================] - 1s 871ms/step\n",
            "1/1 [==============================] - 1s 904ms/step\n",
            "1/1 [==============================] - 1s 643ms/step\n",
            "1/1 [==============================] - 1s 1s/step\n",
            "1/1 [==============================] - 1s 606ms/step\n",
            "1/1 [==============================] - 1s 607ms/step\n",
            "1/1 [==============================] - 1s 625ms/step\n",
            "1/1 [==============================] - 1s 610ms/step\n",
            "1/1 [==============================] - 1s 605ms/step\n",
            "1/1 [==============================] - 1s 605ms/step\n",
            "1/1 [==============================] - 1s 1s/step\n",
            "1/1 [==============================] - 1s 943ms/step\n",
            "1/1 [==============================] - 1s 614ms/step\n",
            "1/1 [==============================] - 1s 611ms/step\n",
            "1/1 [==============================] - 1s 608ms/step\n",
            "1/1 [==============================] - 1s 640ms/step\n",
            "1/1 [==============================] - 1s 594ms/step\n",
            "1/1 [==============================] - 1s 632ms/step\n",
            "1/1 [==============================] - 1s 898ms/step\n",
            "1/1 [==============================] - 1s 921ms/step\n",
            "1/1 [==============================] - 1s 864ms/step\n",
            "1/1 [==============================] - 1s 730ms/step\n",
            "1/1 [==============================] - 1s 595ms/step\n",
            "1/1 [==============================] - 1s 598ms/step\n",
            "1/1 [==============================] - 1s 602ms/step\n",
            "1/1 [==============================] - 1s 1s/step\n",
            "1/1 [==============================] - 1s 599ms/step\n",
            "1/1 [==============================] - 1s 593ms/step\n",
            "1/1 [==============================] - 1s 629ms/step\n",
            "1/1 [==============================] - 1s 672ms/step\n",
            "1/1 [==============================] - 1s 855ms/step\n",
            "1/1 [==============================] - 1s 864ms/step\n",
            "1/1 [==============================] - 1s 597ms/step\n",
            "1/1 [==============================] - 1s 641ms/step\n",
            "1/1 [==============================] - 1s 607ms/step\n",
            "1/1 [==============================] - 1s 607ms/step\n",
            "1/1 [==============================] - 1s 605ms/step\n",
            "1/1 [==============================] - 1s 620ms/step\n",
            "1/1 [==============================] - 1s 606ms/step\n",
            "1/1 [==============================] - 1s 581ms/step\n",
            "1/1 [==============================] - 1s 1s/step\n",
            "1/1 [==============================] - 1s 834ms/step\n",
            "1/1 [==============================] - 1s 618ms/step\n",
            "1/1 [==============================] - 1s 590ms/step\n",
            "1/1 [==============================] - 1s 600ms/step\n",
            "1/1 [==============================] - 1s 602ms/step\n",
            "1/1 [==============================] - 1s 620ms/step\n",
            "1/1 [==============================] - 1s 592ms/step\n",
            "1/1 [==============================] - 1s 612ms/step\n",
            "1/1 [==============================] - 1s 606ms/step\n",
            "1/1 [==============================] - 1s 856ms/step\n",
            "1/1 [==============================] - 1s 912ms/step\n",
            "1/1 [==============================] - 1s 606ms/step\n",
            "1/1 [==============================] - 1s 600ms/step\n",
            "1/1 [==============================] - 1s 601ms/step\n",
            "1/1 [==============================] - 1s 624ms/step\n",
            "1/1 [==============================] - 1s 605ms/step\n",
            "1/1 [==============================] - 1s 601ms/step\n",
            "1/1 [==============================] - 1s 597ms/step\n",
            "1/1 [==============================] - 1s 611ms/step\n",
            "1/1 [==============================] - 1s 849ms/step\n",
            "1/1 [==============================] - 1s 879ms/step\n",
            "1/1 [==============================] - 1s 638ms/step\n",
            "1/1 [==============================] - 1s 633ms/step\n",
            "1/1 [==============================] - 1s 604ms/step\n",
            "1/1 [==============================] - 1s 600ms/step\n",
            "1/1 [==============================] - 1s 603ms/step\n",
            "1/1 [==============================] - 1s 604ms/step\n",
            "1/1 [==============================] - 1s 603ms/step\n",
            "1/1 [==============================] - 1s 1s/step\n",
            "1/1 [==============================] - 1s 873ms/step\n",
            "1/1 [==============================] - 1s 948ms/step\n",
            "1/1 [==============================] - 1s 623ms/step\n",
            "1/1 [==============================] - 1s 610ms/step\n",
            "1/1 [==============================] - 1s 631ms/step\n",
            "1/1 [==============================] - 1s 851ms/step\n",
            "1/1 [==============================] - 1s 893ms/step\n",
            "1/1 [==============================] - 1s 623ms/step\n",
            "1/1 [==============================] - 1s 612ms/step\n",
            "1/1 [==============================] - 1s 878ms/step\n",
            "1/1 [==============================] - 1s 901ms/step\n",
            "1/1 [==============================] - 1s 750ms/step\n",
            "1/1 [==============================] - 1s 591ms/step\n",
            "1/1 [==============================] - 1s 593ms/step\n",
            "1/1 [==============================] - 1s 1s/step\n",
            "1/1 [==============================] - 1s 621ms/step\n",
            "1/1 [==============================] - 1s 586ms/step\n",
            "1/1 [==============================] - 1s 593ms/step\n",
            "1/1 [==============================] - 1s 601ms/step\n",
            "1/1 [==============================] - 1s 635ms/step\n",
            "1/1 [==============================] - 1s 869ms/step\n",
            "1/1 [==============================] - 1s 906ms/step\n",
            "1/1 [==============================] - 1s 625ms/step\n",
            "1/1 [==============================] - 1s 636ms/step\n",
            "1/1 [==============================] - 1s 606ms/step\n",
            "1/1 [==============================] - 1s 601ms/step\n",
            "1/1 [==============================] - 1s 584ms/step\n",
            "1/1 [==============================] - 1s 614ms/step\n",
            "1/1 [==============================] - 1s 606ms/step\n",
            "1/1 [==============================] - 1s 651ms/step\n",
            "1/1 [==============================] - 1s 877ms/step\n",
            "1/1 [==============================] - 1s 921ms/step\n",
            "1/1 [==============================] - 1s 605ms/step\n",
            "1/1 [==============================] - 1s 592ms/step\n",
            "1/1 [==============================] - 1s 614ms/step\n",
            "1/1 [==============================] - 1s 598ms/step\n",
            "1/1 [==============================] - 1s 1s/step\n",
            "1/1 [==============================] - 1s 610ms/step\n",
            "1/1 [==============================] - 1s 605ms/step\n",
            "1/1 [==============================] - 1s 610ms/step\n",
            "1/1 [==============================] - 1s 887ms/step\n",
            "Correct Predictions: 908\n",
            "Incorrect Predictions: 92\n"
          ]
        },
        {
          "data": {
            "image/png": "[encoded data removed]",
            "text/plain": [
              "<Figure size 640x480 with 1 Axes>"
            ]
          },
          "metadata": {},
          "output_type": "display_data"
        },
        {
          "name": "stdout",
          "output_type": "stream",
          "text": [
            "        Word True Lemma Predicted Lemma\n",
            "0    دھمکایا      دھمکا           دھمکا\n",
            "1     سنگھنے     سنگھنا          سنگھنا\n",
            "2       فائر       فائر            فائر\n",
            "3   جھانکئیے      جھانک           جھانک\n",
            "4     دوزخاں       دوزخ            دوزخ\n",
            "5    مٹکائیے       مٹکا            مٹکا\n",
            "6       ٹٹوٗ         ٹٹ              ٹٹ\n",
            "7     کبابوں       کباب            کباب\n",
            "8   رکھواندا      رکھوا           رکھوا\n",
            "9     تلاندا        تلا             تلا\n",
            "10    ودیادے       ودیا            ودیا\n",
            "11   حشائشوں      حشائش           حشائش\n",
            "12   کپاچیوں       کپاچ            کپاچ\n",
            "13  چھڈواویو      چھڈوا           چھڈوا\n",
            "14   مڑواندے       مڑوا            مڑوا\n",
            "15       نچا         نچ             نچا\n",
            "16     ڈونڈی       ڈونڈ            ڈونڈ\n",
            "17      ساکا        ساک            ساکا\n",
            "18     تجتیں         تج              تج\n",
            "19   گبرائیو       گبرا            گبرا\n"
          ]
        }
      ],
      "source": [
        "words_test = [n for (n, l) in test_set]  # X_test\n",
        "lemmas_test = [l for (n, l) in test_set]  # y_test\n",
        "\n",
        "# Predict lemmas for 1000 words from the test set\n",
        "words_test_sample = words_test[:1000]\n",
        "lemmas_test_sample = lemmas_test[:1000]\n",
        "\n",
        "predicted_lemmas = [predict_lemma(word) for word in words_test_sample]\n",
        "\n",
        "# Evaluate predictions\n",
        "correct_predictions = sum([pred == true for pred, true in zip(predicted_lemmas, lemmas_test_sample)])\n",
        "incorrect_predictions = len(predicted_lemmas) - correct_predictions\n",
        "\n",
        "# Output the results\n",
        "print(f'Correct Predictions: {correct_predictions}')\n",
        "print(f'Incorrect Predictions: {incorrect_predictions}')\n",
        "\n",
        "# Visualize the results\n",
        "results = {\n",
        "    'Correct': correct_predictions,\n",
        "    'Incorrect': incorrect_predictions\n",
        "}\n",
        "\n",
        "fig, ax = plt.subplots()\n",
        "ax.bar(results.keys(), results.values(), color=['green', 'red'])\n",
        "ax.set_ylabel('Number of Predictions')\n",
        "ax.set_title('Prediction Results')\n",
        "plt.show()\n",
        "\n",
        "# Detailed comparison\n",
        "comparison_df = pd.DataFrame({\n",
        "    'Word': words_test_sample,\n",
        "    'True Lemma': lemmas_test_sample,\n",
        "    'Predicted Lemma': predicted_lemmas\n",
        "})\n",
        "\n",
        "print(comparison_df.head(20))\n"
      ]
    },
    {
      "cell_type": "code",
      "execution_count": null,
      "id": "aP4qxdw99nMZ",
      "metadata": {
        "colab": {
          "base_uri": "https://localhost:8080/"
        },
        "id": "aP4qxdw99nMZ",
        "outputId": "4faf2d49-49a9-4124-d898-01b28e3db317"
      },
      "outputs": [
        {
          "name": "stdout",
          "output_type": "stream",
          "text": [
            "          Word True Lemma Predicted Lemma\n",
            "0      دھمکایا      دھمکا           دھمکا\n",
            "1       سنگھنے     سنگھنا          سنگھنا\n",
            "2         فائر       فائر            فائر\n",
            "3     جھانکئیے      جھانک           جھانک\n",
            "4       دوزخاں       دوزخ            دوزخ\n",
            "..         ...        ...             ...\n",
            "995  برداردیاں      بردار           بردار\n",
            "996       گباو        گبا             گبا\n",
            "997     تشبہوں     تشبہوں            تشبہ\n",
            "998        سقم        سقم             سقم\n",
            "999     دسوایو       دسوا            دسوا\n",
            "\n",
            "[1000 rows x 3 columns]\n"
          ]
        }
      ],
      "source": [
        "# # Displaying the results\n",
        "# for word, actual_lemma, predicted_lemma in actual_and_predicted_lemmas:\n",
        "#     print(f\"Word: {word}, Actual Lemma: {actual_lemma}, Predicted Lemma: {predicted_lemma}\")\n",
        "\n",
        "print(comparison_df)"
      ]
    }
  ],
  "metadata": {
    "accelerator": "GPU",
    "colab": {
      "gpuType": "T4",
      "provenance": []
    },
    "kernelspec": {
      "display_name": "Python 3",
      "name": "python3"
    },
    "language_info": {
      "codemirror_mode": {
        "name": "ipython",
        "version": 3
      },
      "file_extension": ".py",
      "mimetype": "text/x-python",
      "name": "python",
      "nbconvert_exporter": "python",
      "pygments_lexer": "ipython3",
      "version": "3.9.13"
    }
  },
  "nbformat": 4,
  "nbformat_minor": 5
}
