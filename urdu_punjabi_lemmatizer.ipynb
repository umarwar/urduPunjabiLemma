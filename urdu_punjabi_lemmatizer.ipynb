{
 "cells": [
  {
   "cell_type": "markdown",
   "id": "a7308173",
   "metadata": {
    "id": "cUlktBWJRAx7"
   },
   "source": [
    "## Deep Learning based Bilingual lemmatizer for Urdu and Punjabi \n",
    "\n",
    "### Imports "
   ]
  },
  {
   "cell_type": "code",
   "execution_count": 1,
   "id": "dfc2d95e",
   "metadata": {},
   "outputs": [],
   "source": [
    "import numpy as np\n",
    "import pickle\n",
    "import pandas as pd\n",
    "import matplotlib.pyplot as plt\n",
    "from tensorflow.keras.optimizers import Adam\n",
    "from tensorflow.keras.models import Sequential\n",
    "from tensorflow.keras.preprocessing import sequence\n",
    "from sklearn.model_selection import train_test_split\n",
    "from tensorflow.keras.preprocessing.text import Tokenizer\n",
    "from tensorflow.keras.preprocessing.sequence import pad_sequences\n",
    "from tensorflow.keras.layers import Embedding, Dense, TimeDistributed,LSTM,Bidirectional"
   ]
  },
  {
   "cell_type": "markdown",
   "id": "50c18c62",
   "metadata": {},
   "source": [
    "## Reading Data and splitting with ratio 8:2"
   ]
  },
  {
   "cell_type": "code",
   "execution_count": 2,
   "id": "c6fe103d",
   "metadata": {
    "colab": {
     "base_uri": "https://localhost:8080/"
    },
    "id": "c6fe103d",
    "outputId": "8ddde59e-0315-43d3-c394-480e241bc3d8"
   },
   "outputs": [
    {
     "name": "stderr",
     "output_type": "stream",
     "text": [
      "IOPub data rate exceeded.\n",
      "The notebook server will temporarily stop sending output\n",
      "to the client in order to avoid crashing it.\n",
      "To change this limit, set the config variable\n",
      "`--NotebookApp.iopub_data_rate_limit`.\n",
      "\n",
      "Current values:\n",
      "NotebookApp.iopub_data_rate_limit=1000000.0 (bytes/sec)\n",
      "NotebookApp.rate_limit_window=3.0 (secs)\n",
      "\n"
     ]
    }
   ],
   "source": [
    "# Read data from CSV file (assuming 'word' and 'lemma' columns)\n",
    "df = pd.read_csv('urdu punjabi merged Dataset.csv')\n",
    "\n",
    "word_to_lemma = list(zip(df['Word'], df['Lemma']))\n",
    "\n",
    "print(word_to_lemma)\n",
    "\n",
    "train_set, test_set = train_test_split(word_to_lemma,\n",
    "                                       test_size=0.2)\n",
    "print(len(train_set), len(test_set))"
   ]
  },
  {
   "cell_type": "markdown",
   "id": "5bc3982f",
   "metadata": {},
   "source": [
    "## Extracting word and lemma from train set"
   ]
  },
  {
   "cell_type": "code",
   "execution_count": 3,
   "id": "e601f17a",
   "metadata": {
    "id": "e601f17a"
   },
   "outputs": [],
   "source": [
    "words = [n for (n, l) in train_set] ## X\n",
    "lemmas = [l for (n, l) in train_set] ## y"
   ]
  },
  {
   "cell_type": "markdown",
   "id": "456ea3b8",
   "metadata": {},
   "source": [
    "## Initializing Tokenizer"
   ]
  },
  {
   "cell_type": "code",
   "execution_count": 4,
   "id": "fa59acba",
   "metadata": {
    "id": "fa59acba"
   },
   "outputs": [],
   "source": [
    "tokenizer = Tokenizer(char_level=True)\n",
    "tokenizer.fit_on_texts(words)\n",
    "tokenizer.fit_on_texts(lemmas)"
   ]
  },
  {
   "cell_type": "markdown",
   "id": "87b528c1",
   "metadata": {},
   "source": [
    "## Determining Vocabulary Size"
   ]
  },
  {
   "cell_type": "code",
   "execution_count": 5,
   "id": "322e317b",
   "metadata": {
    "colab": {
     "base_uri": "https://localhost:8080/"
    },
    "id": "322e317b",
    "outputId": "53fb2ca5-331a-4ade-c521-5b0da218293b"
   },
   "outputs": [
    {
     "name": "stdout",
     "output_type": "stream",
     "text": [
      "Vocabulary Size: 54\n"
     ]
    }
   ],
   "source": [
    "# determine the vocabulary size\n",
    "vocab_size = len(tokenizer.word_index) + 1\n",
    "print('Vocabulary Size: %d' % vocab_size)"
   ]
  },
  {
   "cell_type": "markdown",
   "id": "a12177e8",
   "metadata": {},
   "source": [
    "## Displaying total vocabulary characters"
   ]
  },
  {
   "cell_type": "code",
   "execution_count": 6,
   "id": "4ac2e86c",
   "metadata": {
    "colab": {
     "base_uri": "https://localhost:8080/"
    },
    "id": "4ac2e86c",
    "outputId": "288ba08f-3ab0-4dd2-f0e8-435f095d4735"
   },
   "outputs": [
    {
     "data": {
      "text/plain": [
       "{'ا': 1,\n",
       " 'و': 2,\n",
       " 'ی': 3,\n",
       " 'ن': 4,\n",
       " 'ر': 5,\n",
       " 'ک': 6,\n",
       " 'ل': 7,\n",
       " 'ھ': 8,\n",
       " 'ت': 9,\n",
       " 'د': 10,\n",
       " 'م': 11,\n",
       " 'س': 12,\n",
       " 'ب': 13,\n",
       " 'ں': 14,\n",
       " 'پ': 15,\n",
       " 'ٹ': 16,\n",
       " 'چ': 17,\n",
       " 'گ': 18,\n",
       " 'ج': 19,\n",
       " 'ہ': 20,\n",
       " 'ے': 21,\n",
       " 'ڑ': 22,\n",
       " 'ئ': 23,\n",
       " 'ڈ': 24,\n",
       " 'ش': 25,\n",
       " 'ف': 26,\n",
       " 'ق': 27,\n",
       " 'ُ': 28,\n",
       " 'خ': 29,\n",
       " 'ع': 30,\n",
       " 'ح': 31,\n",
       " 'ز': 32,\n",
       " 'ص': 33,\n",
       " 'ط': 34,\n",
       " 'ِ': 35,\n",
       " 'آ': 36,\n",
       " 'غ': 37,\n",
       " 'ؤ': 38,\n",
       " 'ض': 39,\n",
       " 'َ': 40,\n",
       " 'ٗ': 41,\n",
       " 'ث': 42,\n",
       " 'ذ': 43,\n",
       " 'ظ': 44,\n",
       " 'ً': 45,\n",
       " 'ٔ': 46,\n",
       " 'ء': 47,\n",
       " 'ٰ': 48,\n",
       " 'ّ': 49,\n",
       " 'ژ': 50,\n",
       " 'ۓ': 51,\n",
       " 'ؔ': 52,\n",
       " 'ۃ': 53}"
      ]
     },
     "execution_count": 6,
     "metadata": {},
     "output_type": "execute_result"
    }
   ],
   "source": [
    "tokenizer.word_index"
   ]
  },
  {
   "cell_type": "markdown",
   "id": "565796c0",
   "metadata": {},
   "source": [
    "## Converting Words and Lemma in sequence of integers"
   ]
  },
  {
   "cell_type": "code",
   "execution_count": 7,
   "id": "576393c1",
   "metadata": {
    "id": "576393c1"
   },
   "outputs": [],
   "source": [
    "words_ints = tokenizer.texts_to_sequences(words)\n",
    "lemmas_ints = tokenizer.texts_to_sequences(lemmas)\n"
   ]
  },
  {
   "cell_type": "code",
   "execution_count": 8,
   "id": "9d4fa683",
   "metadata": {
    "colab": {
     "base_uri": "https://localhost:8080/"
    },
    "id": "9d4fa683",
    "outputId": "35849c68-62e0-4320-8d14-e4c6b555d3a8"
   },
   "outputs": [
    {
     "name": "stdout",
     "output_type": "stream",
     "text": [
      "['سدھر', 'گوڈااں', 'سالیا', 'کاتنا', 'قرابتوں']\n",
      "[[12, 10, 8, 5], [18, 2, 24, 1, 1, 14], [12, 1, 7, 3, 1], [6, 1, 9, 4, 1], [27, 5, 1, 13, 9, 2, 14]]\n",
      "['سدھر', 'گوڈا', 'سالا', 'کات', 'قرابت']\n",
      "[[12, 10, 8, 5], [18, 2, 24, 1], [12, 1, 7, 1], [6, 1, 9], [27, 5, 1, 13, 9]]\n"
     ]
    }
   ],
   "source": [
    "print(words[:5])\n",
    "print(words_ints[:5])\n",
    "print(lemmas[:5])\n",
    "print(lemmas_ints[:5])"
   ]
  },
  {
   "cell_type": "markdown",
   "id": "42ef4ad6",
   "metadata": {},
   "source": [
    "## Plot the word with max length and visualizing the count according to word length"
   ]
  },
  {
   "cell_type": "code",
   "execution_count": 9,
   "id": "2ebb7fd0",
   "metadata": {
    "colab": {
     "base_uri": "https://localhost:8080/",
     "height": 523
    },
    "id": "2ebb7fd0",
    "outputId": "68b8202b-2f3b-4e31-8619-495a7ae4c954"
   },
   "outputs": [
    {
     "name": "stdout",
     "output_type": "stream",
     "text": [
      "اسلامآبادیوندیاں\n"
     ]
    },
    {
     "data": {
      "image/png": "[encoded data removed]",
      "text/plain": [
       "<Figure size 500x500 with 1 Axes>"
      ]
     },
     "metadata": {},
     "output_type": "display_data"
    }
   ],
   "source": [
    "import seaborn as sns\n",
    "\n",
    "## We can check the length distribution of texts in corpus\n",
    "\n",
    "words_lens = [len(n) for n in words_ints]\n",
    "words_lens\n",
    "\n",
    "sns.displot(words_lens)\n",
    "print(words[np.argmax(words_lens)])  # longest name"
   ]
  },
  {
   "cell_type": "markdown",
   "id": "c52785bc",
   "metadata": {},
   "source": [
    "## Displaying max size of word"
   ]
  },
  {
   "cell_type": "code",
   "execution_count": 10,
   "id": "cffc39d5",
   "metadata": {
    "colab": {
     "base_uri": "https://localhost:8080/"
    },
    "id": "cffc39d5",
    "outputId": "62b1ee7b-4c2c-4d07-be50-8452d87d8610"
   },
   "outputs": [
    {
     "name": "stdout",
     "output_type": "stream",
     "text": [
      "Maximum Sequence Length: 16\n"
     ]
    }
   ],
   "source": [
    "max_len = max(len(seq) for seq in words_ints)\n",
    "print('Maximum Sequence Length:', max_len)"
   ]
  },
  {
   "cell_type": "markdown",
   "id": "d315d08d",
   "metadata": {},
   "source": [
    "## Applying Padding on the sequence of integers of each word to make it equal to length 15"
   ]
  },
  {
   "cell_type": "code",
   "execution_count": 11,
   "id": "7c1fe162",
   "metadata": {
    "colab": {
     "base_uri": "https://localhost:8080/"
    },
    "id": "7c1fe162",
    "outputId": "d596b2c8-dd0b-489e-b3a6-dfaa96ae17a3"
   },
   "outputs": [
    {
     "data": {
      "text/plain": [
       "array([[12, 10,  8,  5,  0,  0,  0,  0,  0,  0,  0,  0,  0,  0,  0,  0],\n",
       "       [18,  2, 24,  1,  1, 14,  0,  0,  0,  0,  0,  0,  0,  0,  0,  0],\n",
       "       [12,  1,  7,  3,  1,  0,  0,  0,  0,  0,  0,  0,  0,  0,  0,  0],\n",
       "       [ 6,  1,  9,  4,  1,  0,  0,  0,  0,  0,  0,  0,  0,  0,  0,  0],\n",
       "       [27,  5,  1, 13,  9,  2, 14,  0,  0,  0,  0,  0,  0,  0,  0,  0],\n",
       "       [19,  8,  3,  5,  3,  0,  0,  0,  0,  0,  0,  0,  0,  0,  0,  0],\n",
       "       [31, 33,  1,  5, 21,  0,  0,  0,  0,  0,  0,  0,  0,  0,  0,  0],\n",
       "       [ 4,  7,  2,  1,  9,  1,  0,  0,  0,  0,  0,  0,  0,  0,  0,  0],\n",
       "       [13,  8, 18,  2, 23,  3, 21,  0,  0,  0,  0,  0,  0,  0,  0,  0],\n",
       "       [ 9,  1,  7, 26,  3,  0,  0,  0,  0,  0,  0,  0,  0,  0,  0,  0]])"
      ]
     },
     "execution_count": 11,
     "metadata": {},
     "output_type": "execute_result"
    }
   ],
   "source": [
    "words_ints_pad = sequence.pad_sequences(words_ints, maxlen=max_len,padding='post')\n",
    "words_ints_pad[:10]"
   ]
  },
  {
   "cell_type": "markdown",
   "id": "e138d329",
   "metadata": {},
   "source": [
    "## Applying Padding on the sequence of integers of each lemma to make it equal to length 15"
   ]
  },
  {
   "cell_type": "code",
   "execution_count": 12,
   "id": "9abcae67",
   "metadata": {
    "colab": {
     "base_uri": "https://localhost:8080/"
    },
    "id": "9abcae67",
    "outputId": "6647530d-ff77-415f-a737-99fefa561da0"
   },
   "outputs": [
    {
     "data": {
      "text/plain": [
       "array([[12, 10,  8,  5,  0,  0,  0,  0,  0,  0,  0,  0,  0,  0,  0,  0],\n",
       "       [18,  2, 24,  1,  0,  0,  0,  0,  0,  0,  0,  0,  0,  0,  0,  0],\n",
       "       [12,  1,  7,  1,  0,  0,  0,  0,  0,  0,  0,  0,  0,  0,  0,  0],\n",
       "       [ 6,  1,  9,  0,  0,  0,  0,  0,  0,  0,  0,  0,  0,  0,  0,  0],\n",
       "       [27,  5,  1, 13,  9,  0,  0,  0,  0,  0,  0,  0,  0,  0,  0,  0],\n",
       "       [19,  8,  3,  5,  0,  0,  0,  0,  0,  0,  0,  0,  0,  0,  0,  0],\n",
       "       [31, 33,  1,  5, 20,  0,  0,  0,  0,  0,  0,  0,  0,  0,  0,  0],\n",
       "       [ 4,  7,  2,  1,  0,  0,  0,  0,  0,  0,  0,  0,  0,  0,  0,  0],\n",
       "       [13,  8, 18,  2,  0,  0,  0,  0,  0,  0,  0,  0,  0,  0,  0,  0],\n",
       "       [ 9,  1,  7, 26,  0,  0,  0,  0,  0,  0,  0,  0,  0,  0,  0,  0]])"
      ]
     },
     "execution_count": 12,
     "metadata": {},
     "output_type": "execute_result"
    }
   ],
   "source": [
    "lemmas_ints_pad = sequence.pad_sequences(lemmas_ints, maxlen=max_len,padding='post')\n",
    "lemmas_ints_pad[:10]"
   ]
  },
  {
   "cell_type": "code",
   "execution_count": 13,
   "id": "a78d1748",
   "metadata": {
    "id": "a78d1748"
   },
   "outputs": [],
   "source": [
    "X_train = np.array(words_ints_pad).astype('int32')\n",
    "y_train = np.array(lemmas_ints_pad).astype('int32')"
   ]
  },
  {
   "cell_type": "code",
   "execution_count": 14,
   "id": "fa99b78e",
   "metadata": {
    "colab": {
     "base_uri": "https://localhost:8080/"
    },
    "id": "fa99b78e",
    "outputId": "5443e931-6691-4b2a-9164-3320ec3f95ab"
   },
   "outputs": [
    {
     "name": "stdout",
     "output_type": "stream",
     "text": [
      "(89660, 16)\n",
      "(89660, 16)\n"
     ]
    }
   ],
   "source": [
    "print(X_train.shape)\n",
    "print(y_train.shape)"
   ]
  },
  {
   "cell_type": "markdown",
   "id": "c30af3e8",
   "metadata": {},
   "source": [
    "## Defining Model sequqntial and then using BILSTM"
   ]
  },
  {
   "cell_type": "code",
   "execution_count": 15,
   "id": "f619c825",
   "metadata": {
    "id": "f619c825"
   },
   "outputs": [],
   "source": [
    "# Define the model\n",
    "model = Sequential()\n",
    "model.add(Embedding(input_dim=vocab_size, output_dim=64, input_length=max_len))\n",
    "model.add(Bidirectional(LSTM(units=64, return_sequences=True))) # BiLSTM layer\n",
    "model.add(TimeDistributed(Dense(vocab_size, activation='softmax')))  # TimeDistributed for sequence prediction\n",
    "\n",
    "# Compile the model\n",
    "model.compile(loss='sparse_categorical_crossentropy', optimizer=Adam(), metrics=['accuracy'])"
   ]
  },
  {
   "cell_type": "markdown",
   "id": "674488de",
   "metadata": {},
   "source": [
    "## Training Model"
   ]
  },
  {
   "cell_type": "code",
   "execution_count": 16,
   "id": "6655a67e",
   "metadata": {
    "scrolled": false
   },
   "outputs": [
    {
     "name": "stdout",
     "output_type": "stream",
     "text": [
      "Epoch 1/20\n",
      "561/561 [==============================] - 51s 80ms/step - loss: 0.6897 - accuracy: 0.8569 - val_loss: 0.1227 - val_accuracy: 0.9716\n",
      "Epoch 2/20\n",
      "561/561 [==============================] - 42s 75ms/step - loss: 0.0795 - accuracy: 0.9792 - val_loss: 0.0610 - val_accuracy: 0.9822\n",
      "Epoch 3/20\n",
      "561/561 [==============================] - 48s 86ms/step - loss: 0.0563 - accuracy: 0.9832 - val_loss: 0.0520 - val_accuracy: 0.9842\n",
      "Epoch 4/20\n",
      "561/561 [==============================] - 46s 82ms/step - loss: 0.0496 - accuracy: 0.9849 - val_loss: 0.0476 - val_accuracy: 0.9850\n",
      "Epoch 5/20\n",
      "561/561 [==============================] - 49s 87ms/step - loss: 0.0453 - accuracy: 0.9860 - val_loss: 0.0442 - val_accuracy: 0.9860\n",
      "Epoch 6/20\n",
      "561/561 [==============================] - 60s 107ms/step - loss: 0.0421 - accuracy: 0.9868 - val_loss: 0.0411 - val_accuracy: 0.9869\n",
      "Epoch 7/20\n",
      "561/561 [==============================] - 52s 92ms/step - loss: 0.0396 - accuracy: 0.9874 - val_loss: 0.0397 - val_accuracy: 0.9870\n",
      "Epoch 8/20\n",
      "561/561 [==============================] - 54s 96ms/step - loss: 0.0374 - accuracy: 0.9879 - val_loss: 0.0376 - val_accuracy: 0.9879\n",
      "Epoch 9/20\n",
      "561/561 [==============================] - 60s 106ms/step - loss: 0.0357 - accuracy: 0.9882 - val_loss: 0.0364 - val_accuracy: 0.9880\n",
      "Epoch 10/20\n",
      "561/561 [==============================] - 64s 114ms/step - loss: 0.0339 - accuracy: 0.9887 - val_loss: 0.0350 - val_accuracy: 0.9882\n",
      "Epoch 11/20\n",
      "561/561 [==============================] - 61s 108ms/step - loss: 0.0326 - accuracy: 0.9890 - val_loss: 0.0341 - val_accuracy: 0.9884\n",
      "Epoch 12/20\n",
      "561/561 [==============================] - 57s 102ms/step - loss: 0.0312 - accuracy: 0.9893 - val_loss: 0.0328 - val_accuracy: 0.9888\n",
      "Epoch 13/20\n",
      "561/561 [==============================] - 109s 195ms/step - loss: 0.0301 - accuracy: 0.9896 - val_loss: 0.0318 - val_accuracy: 0.9892\n",
      "Epoch 14/20\n",
      "561/561 [==============================] - 69s 124ms/step - loss: 0.0288 - accuracy: 0.9900 - val_loss: 0.0315 - val_accuracy: 0.9891\n",
      "Epoch 15/20\n",
      "561/561 [==============================] - 59s 106ms/step - loss: 0.0278 - accuracy: 0.9903 - val_loss: 0.0305 - val_accuracy: 0.9895\n",
      "Epoch 16/20\n",
      "561/561 [==============================] - 59s 105ms/step - loss: 0.0268 - accuracy: 0.9906 - val_loss: 0.0302 - val_accuracy: 0.9897\n",
      "Epoch 17/20\n",
      "561/561 [==============================] - 117s 209ms/step - loss: 0.0260 - accuracy: 0.9908 - val_loss: 0.0302 - val_accuracy: 0.9896\n",
      "Epoch 18/20\n",
      "561/561 [==============================] - 93s 166ms/step - loss: 0.0251 - accuracy: 0.9911 - val_loss: 0.0291 - val_accuracy: 0.9899\n",
      "Epoch 19/20\n",
      "561/561 [==============================] - 84s 150ms/step - loss: 0.0244 - accuracy: 0.9914 - val_loss: 0.0288 - val_accuracy: 0.9901\n",
      "Epoch 20/20\n",
      "561/561 [==============================] - 90s 160ms/step - loss: 0.0237 - accuracy: 0.9917 - val_loss: 0.0282 - val_accuracy: 0.9902\n"
     ]
    }
   ],
   "source": [
    "# Train the model\n",
    "history = model.fit(X_train, y_train, epochs=20, batch_size=128, validation_split=0.2)"
   ]
  },
  {
   "cell_type": "markdown",
   "id": "9e5b1abe",
   "metadata": {},
   "source": [
    "## Saving Model"
   ]
  },
  {
   "cell_type": "code",
   "execution_count": 17,
   "id": "5f5620a7",
   "metadata": {},
   "outputs": [
    {
     "name": "stderr",
     "output_type": "stream",
     "text": [
      "C:\\Users\\PMLS\\AppData\\Roaming\\Python\\Python39\\site-packages\\keras\\src\\engine\\training.py:3079: UserWarning: You are saving your model as an HDF5 file via `model.save()`. This file format is considered legacy. We recommend using instead the native Keras format, e.g. `model.save('my_model.keras')`.\n",
      "  saving_api.save_model(\n"
     ]
    }
   ],
   "source": [
    "from keras.models import load_model\n",
    "\n",
    "# Assuming 'model' is your trained model\n",
    "# Save the model to a file\n",
    "model.save('BiLSTM.h5')"
   ]
  },
  {
   "cell_type": "markdown",
   "id": "4694ea6e",
   "metadata": {},
   "source": [
    "## Saving Tokenizer"
   ]
  },
  {
   "cell_type": "code",
   "execution_count": 18,
   "id": "ded6c268",
   "metadata": {},
   "outputs": [],
   "source": [
    "# Save the tokenizer\n",
    "with open('tokenizer.pickle', 'wb') as handle:\n",
    "    pickle.dump(tokenizer, handle, protocol=pickle.HIGHEST_PROTOCOL)"
   ]
  },
  {
   "cell_type": "markdown",
   "id": "2788170f",
   "metadata": {},
   "source": [
    "## Plotting Accuracy and Loss Curves"
   ]
  },
  {
   "cell_type": "code",
   "execution_count": 19,
   "id": "7a4IFuPHRj0_",
   "metadata": {
    "colab": {
     "base_uri": "https://localhost:8080/",
     "height": 410
    },
    "id": "7a4IFuPHRj0_",
    "outputId": "b3ec25dc-63aa-4903-9530-ee1272081073"
   },
   "outputs": [
    {
     "data": {
      "image/png": "[encoded data removed]",
      "text/plain": [
       "<Figure size 1200x400 with 2 Axes>"
      ]
     },
     "metadata": {},
     "output_type": "display_data"
    }
   ],
   "source": [
    "# Plot accuracy and loss curves\n",
    "plt.figure(figsize=(12, 4))\n",
    "plt.subplot(1, 2, 1)\n",
    "plt.plot(history.history['accuracy'], label='Train Accuracy')\n",
    "plt.plot(history.history['val_accuracy'], label='Validation Accuracy')\n",
    "plt.title('Accuracy over Epochs')\n",
    "plt.xlabel('Epochs')\n",
    "plt.ylabel('Accuracy')\n",
    "plt.legend()\n",
    "\n",
    "plt.subplot(1, 2, 2)\n",
    "plt.plot(history.history['loss'], label='Train Loss')\n",
    "plt.plot(history.history['val_loss'], label='Validation Loss')\n",
    "plt.title('Loss over Epochs')\n",
    "plt.xlabel('Epochs')\n",
    "plt.ylabel('Loss')\n",
    "plt.legend()\n",
    "plt.show()"
   ]
  },
  {
   "cell_type": "markdown",
   "id": "defa652c",
   "metadata": {},
   "source": [
    "## FInding Accuracy, percsion, recall and F1 Score"
   ]
  },
  {
   "cell_type": "code",
   "execution_count": 20,
   "id": "WfXlatRwUpxH",
   "metadata": {
    "colab": {
     "base_uri": "https://localhost:8080/"
    },
    "id": "WfXlatRwUpxH",
    "outputId": "4f866f32-85cc-4969-e6b3-3bfc30b6d36e"
   },
   "outputs": [
    {
     "name": "stdout",
     "output_type": "stream",
     "text": [
      "701/701 [==============================] - 16s 19ms/step\n",
      "Precision: 0.9718424061651939\n",
      "Recall: 0.9378788052194924\n",
      "F1-score: 0.9520656659119765\n",
      "Accuracy: 0.9748739978308487\n"
     ]
    },
    {
     "name": "stderr",
     "output_type": "stream",
     "text": [
      "C:\\ProgramData\\Anaconda3\\lib\\site-packages\\sklearn\\metrics\\_classification.py:1318: UndefinedMetricWarning: Recall is ill-defined and being set to 0.0 in labels with no true samples. Use `zero_division` parameter to control this behavior.\n",
      "  _warn_prf(average, modifier, msg_start, len(result))\n"
     ]
    }
   ],
   "source": [
    "from sklearn.metrics import precision_score, recall_score, f1_score, accuracy_score\n",
    "\n",
    "# Prepare testing data\n",
    "X_test_texts = [n for (n, l) in test_set]\n",
    "Y_test_texts = [l for (n, l) in test_set]\n",
    "X_test = np.array(pad_sequences(tokenizer.texts_to_sequences(X_test_texts), maxlen=max_len, padding='post')).astype('int32')\n",
    "y_test = np.array(pad_sequences(tokenizer.texts_to_sequences(Y_test_texts), maxlen=max_len, padding='post')).astype('int32')\n",
    "\n",
    "# Predict on the test set\n",
    "y_pred = model.predict(X_test)\n",
    "y_pred = y_pred.argmax(axis=-1)\n",
    "\n",
    "# Flatten the predictions and true labels for evaluation\n",
    "y_test_flat = y_test.flatten()\n",
    "y_pred_flat = y_pred.flatten()\n",
    "\n",
    "# Filter out padding\n",
    "mask = y_test_flat != 0\n",
    "y_test_flat = y_test_flat[mask]\n",
    "y_pred_flat = y_pred_flat[mask]\n",
    "\n",
    "# Calculate metrics\n",
    "precision = precision_score(y_test_flat, y_pred_flat, average='macro')\n",
    "recall = recall_score(y_test_flat, y_pred_flat, average='macro')\n",
    "f1 = f1_score(y_test_flat, y_pred_flat, average='macro')\n",
    "accuracy = accuracy_score(y_test_flat, y_pred_flat)\n",
    "\n",
    "print(f'Precision: {precision}')\n",
    "print(f'Recall: {recall}')\n",
    "print(f'F1-score: {f1}')\n",
    "print(f'Accuracy: {accuracy}')"
   ]
  },
  {
   "cell_type": "markdown",
   "id": "6298e94f",
   "metadata": {},
   "source": [
    "## Defining predict_lemma function for lemma prediction"
   ]
  },
  {
   "cell_type": "code",
   "execution_count": 23,
   "id": "2875e361",
   "metadata": {
    "id": "2875e361"
   },
   "outputs": [],
   "source": [
    "from keras.models import load_model\n",
    "import numpy as np\n",
    "from tensorflow.keras.preprocessing.sequence import pad_sequences\n",
    "import pickle\n",
    "\n",
    "def predict_lemma(word):\n",
    "\n",
    "  max_len=16\n",
    "  \n",
    "  # this is the saved tokenizer of bilstm model\n",
    "  with open('tokenizer.pickle', 'rb') as handle:\n",
    "    tokenizer = pickle.load(handle)\n",
    "\n",
    "  # Convert the word to a sequence of integers\n",
    "  sequence = tokenizer.texts_to_sequences([word])\n",
    "\n",
    "  # Pad the sequence to the maximum length\n",
    "  padded_sequence = pad_sequences(sequence, maxlen=max_len,padding='post')\n",
    "\n",
    "  # this is the saved model file of bilstm model\n",
    "  model = load_model('BiLSTM.h5')\n",
    "\n",
    "  # Predict the lemma using the trained model\n",
    "  predictions = model.predict(padded_sequence)\n",
    "\n",
    "  # Convert the prediction to the corresponding lemma\n",
    "  # Since the output is a sequence, we need to take the argmax for each timestep\n",
    "  lemma_sequence = np.argmax(predictions, axis=-1)[0]\n",
    "\n",
    "  # Retrieve the corresponding lemma from the tokenizer's index_word dictionary\n",
    "  lemma = ''.join([tokenizer.index_word.get(i, '') for i in lemma_sequence if i != 0])\n",
    "\n",
    "  return lemma"
   ]
  },
  {
   "cell_type": "markdown",
   "id": "d3a94af1",
   "metadata": {},
   "source": [
    "## Performing Prediction"
   ]
  },
  {
   "cell_type": "code",
   "execution_count": 24,
   "id": "f4b52179",
   "metadata": {
    "colab": {
     "base_uri": "https://localhost:8080/"
    },
    "id": "f4b52179",
    "outputId": "8f25d77d-e47c-4f42-97f5-7fb0bf475e33"
   },
   "outputs": [
    {
     "name": "stdout",
     "output_type": "stream",
     "text": [
      "1/1 [==============================] - 1s 1s/step\n",
      "The predicted lemma for ڈھگائیں is: ڈھگا\n"
     ]
    }
   ],
   "source": [
    "# Example usage (Actuall lemma = ڈھگا):\n",
    "word = 'ڈھگائیں'\n",
    "predicted_lemma = predict_lemma(word)\n",
    "print(f\"The predicted lemma for {word} is: {predicted_lemma}\")"
   ]
  },
  {
   "cell_type": "code",
   "execution_count": 25,
   "id": "5dde43ce",
   "metadata": {
    "colab": {
     "base_uri": "https://localhost:8080/"
    },
    "id": "5dde43ce",
    "outputId": "b892c85c-9df0-4aaa-f2de-eac367ed1bd4"
   },
   "outputs": [
    {
     "name": "stdout",
     "output_type": "stream",
     "text": [
      "1/1 [==============================] - 1s 1s/step\n",
      "The predicted lemma for ڈراونہیو is: ڈراونہ\n"
     ]
    }
   ],
   "source": [
    "# Example usage (Actuall lemma = ڈراونہ):\n",
    "word = 'ڈراونہیو'\n",
    "predicted_lemma = predict_lemma(word)\n",
    "print(f\"The predicted lemma for {word} is: {predicted_lemma}\")"
   ]
  },
  {
   "cell_type": "code",
   "execution_count": 26,
   "id": "d426f55a",
   "metadata": {
    "colab": {
     "base_uri": "https://localhost:8080/"
    },
    "id": "d426f55a",
    "outputId": "b77f7ae7-6b50-4140-e9f3-dd58f624d699"
   },
   "outputs": [
    {
     "name": "stdout",
     "output_type": "stream",
     "text": [
      "1/1 [==============================] - 2s 2s/step\n",
      "The predicted lemma for تگڑادا is: تگڑا\n"
     ]
    }
   ],
   "source": [
    "# Example usage (Actuall lemma = 'تگڑا'):\n",
    "word = 'تگڑادا'\n",
    "predicted_lemma = predict_lemma(word)\n",
    "print(f\"The predicted lemma for {word} is: {predicted_lemma}\")"
   ]
  },
  {
   "cell_type": "code",
   "execution_count": 27,
   "id": "0e0c4c52",
   "metadata": {
    "colab": {
     "base_uri": "https://localhost:8080/"
    },
    "id": "0e0c4c52",
    "outputId": "21215699-f002-4765-a27d-9875a05b942f"
   },
   "outputs": [
    {
     "name": "stdout",
     "output_type": "stream",
     "text": [
      "WARNING:tensorflow:5 out of the last 705 calls to <function Model.make_predict_function.<locals>.predict_function at 0x00000281C919A160> triggered tf.function retracing. Tracing is expensive and the excessive number of tracings could be due to (1) creating @tf.function repeatedly in a loop, (2) passing tensors with different shapes, (3) passing Python objects instead of tensors. For (1), please define your @tf.function outside of the loop. For (2), @tf.function has reduce_retracing=True option that can avoid unnecessary retracing. For (3), please refer to https://www.tensorflow.org/guide/function#controlling_retracing and https://www.tensorflow.org/api_docs/python/tf/function for  more details.\n",
      "1/1 [==============================] - 2s 2s/step\n",
      "The predicted lemma for ہونا is: ہو\n"
     ]
    }
   ],
   "source": [
    "word = 'ہونا'\n",
    "predicted_lemma = predict_lemma(word)\n",
    "print(f\"The predicted lemma for {word} is: {predicted_lemma}\")"
   ]
  },
  {
   "cell_type": "code",
   "execution_count": 28,
   "id": "1744306d",
   "metadata": {
    "colab": {
     "base_uri": "https://localhost:8080/"
    },
    "id": "1744306d",
    "outputId": "f50a6bf9-cd2f-4898-de0f-1c125549b214"
   },
   "outputs": [
    {
     "name": "stdout",
     "output_type": "stream",
     "text": [
      "WARNING:tensorflow:6 out of the last 706 calls to <function Model.make_predict_function.<locals>.predict_function at 0x00000281D9790820> triggered tf.function retracing. Tracing is expensive and the excessive number of tracings could be due to (1) creating @tf.function repeatedly in a loop, (2) passing tensors with different shapes, (3) passing Python objects instead of tensors. For (1), please define your @tf.function outside of the loop. For (2), @tf.function has reduce_retracing=True option that can avoid unnecessary retracing. For (3), please refer to https://www.tensorflow.org/guide/function#controlling_retracing and https://www.tensorflow.org/api_docs/python/tf/function for  more details.\n",
      "1/1 [==============================] - 2s 2s/step\n",
      "The predicted lemma for جہانیاں is: جہانی\n"
     ]
    }
   ],
   "source": [
    "word = 'جہانیاں'\n",
    "predicted_lemma = predict_lemma(word)\n",
    "print(f\"The predicted lemma for {word} is: {predicted_lemma}\")"
   ]
  },
  {
   "cell_type": "code",
   "execution_count": 29,
   "id": "36ac8164",
   "metadata": {
    "colab": {
     "base_uri": "https://localhost:8080/"
    },
    "id": "36ac8164",
    "outputId": "988222de-a975-45b8-e63a-c467981693bf"
   },
   "outputs": [
    {
     "name": "stdout",
     "output_type": "stream",
     "text": [
      "1/1 [==============================] - 2s 2s/step\n",
      "The predicted lemma for خانسامنوں is: خانسامن\n"
     ]
    }
   ],
   "source": [
    "word = 'خانسامنوں'\n",
    "predicted_lemma = predict_lemma(word)\n",
    "print(f\"The predicted lemma for {word} is: {predicted_lemma}\")"
   ]
  },
  {
   "cell_type": "code",
   "execution_count": 30,
   "id": "60df64a2",
   "metadata": {
    "colab": {
     "base_uri": "https://localhost:8080/"
    },
    "id": "60df64a2",
    "outputId": "9f45ceda-c38b-4fd9-c1fa-1b51e6d22cb1"
   },
   "outputs": [
    {
     "name": "stdout",
     "output_type": "stream",
     "text": [
      "1/1 [==============================] - 1s 1s/step\n",
      "The predicted lemma for 'جميعت' is: جمعت\n"
     ]
    }
   ],
   "source": [
    "predicted_lemma = predict_lemma('جميعت')\n",
    "print(f\"The predicted lemma for 'جميعت' is: {predicted_lemma}\")"
   ]
  },
  {
   "cell_type": "code",
   "execution_count": 31,
   "id": "e13ce82d",
   "metadata": {
    "colab": {
     "base_uri": "https://localhost:8080/"
    },
    "id": "e13ce82d",
    "outputId": "e0661597-fb6e-4fe0-d5d1-1a77a7ddd2da"
   },
   "outputs": [
    {
     "name": "stdout",
     "output_type": "stream",
     "text": [
      "1/1 [==============================] - 2s 2s/step\n",
      "The predicted lemma for جھجکوں is: جھجک\n"
     ]
    }
   ],
   "source": [
    "# Example usage:\n",
    "word = 'جھجکوں'\n",
    "predicted_lemma = predict_lemma(word)\n",
    "print(f\"The predicted lemma for {word} is: {predicted_lemma}\")"
   ]
  },
  {
   "cell_type": "code",
   "execution_count": 32,
   "id": "30802755",
   "metadata": {
    "colab": {
     "base_uri": "https://localhost:8080/"
    },
    "id": "30802755",
    "outputId": "b3f4a608-ef18-4484-845f-e0be9292f1a6"
   },
   "outputs": [
    {
     "name": "stdout",
     "output_type": "stream",
     "text": [
      "1/1 [==============================] - 2s 2s/step\n",
      "The predicted lemma for پهنسوائیو is: پنسوائی\n"
     ]
    }
   ],
   "source": [
    "word = 'پهنسوائیو'\n",
    "predicted_lemma = predict_lemma(word)\n",
    "print(f\"The predicted lemma for {word} is: {predicted_lemma}\")"
   ]
  },
  {
   "cell_type": "code",
   "execution_count": 33,
   "id": "754d9a13",
   "metadata": {
    "colab": {
     "base_uri": "https://localhost:8080/"
    },
    "id": "754d9a13",
    "outputId": "772fe4eb-60cc-4c8a-ad44-da0a294ccd8d"
   },
   "outputs": [
    {
     "name": "stdout",
     "output_type": "stream",
     "text": [
      "1/1 [==============================] - 1s 1s/step\n",
      "The predicted lemma for جھپٹواوندیاں is: جھپٹوا\n"
     ]
    }
   ],
   "source": [
    "# Example usage (Actuall lemma ='جھپٹوا'):\n",
    "word = 'جھپٹواوندیاں'\n",
    "predicted_lemma = predict_lemma(word)\n",
    "print(f\"The predicted lemma for {word} is: {predicted_lemma}\")"
   ]
  },
  {
   "cell_type": "code",
   "execution_count": 34,
   "id": "fa31144f",
   "metadata": {
    "colab": {
     "base_uri": "https://localhost:8080/"
    },
    "id": "fa31144f",
    "outputId": "a63e6de1-b884-4ddb-c728-e6d2547d2067"
   },
   "outputs": [
    {
     "name": "stdout",
     "output_type": "stream",
     "text": [
      "1/1 [==============================] - 1s 1s/step\n",
      "The predicted lemma for کرنا is: کر\n"
     ]
    }
   ],
   "source": [
    "# Example usage (Actuall lemma ='کر'):\n",
    "word = 'کرنا'\n",
    "predicted_lemma = predict_lemma(word)\n",
    "print(f\"The predicted lemma for {word} is: {predicted_lemma}\")"
   ]
  },
  {
   "cell_type": "code",
   "execution_count": 35,
   "id": "547c1d3e",
   "metadata": {
    "colab": {
     "base_uri": "https://localhost:8080/"
    },
    "id": "547c1d3e",
    "outputId": "184e769a-9748-47b6-e8dd-d7856354c4d7"
   },
   "outputs": [
    {
     "name": "stdout",
     "output_type": "stream",
     "text": [
      "1/1 [==============================] - 1s 1s/step\n",
      "The predicted lemma for وداندیاں is: ودا\n"
     ]
    }
   ],
   "source": [
    "# Example usage (Actuall lemma ='ودا'):\n",
    "word = 'وداندیاں'\n",
    "predicted_lemma = predict_lemma(word)\n",
    "print(f\"The predicted lemma for {word} is: {predicted_lemma}\")"
   ]
  },
  {
   "cell_type": "code",
   "execution_count": 36,
   "id": "4ee112a5",
   "metadata": {
    "colab": {
     "base_uri": "https://localhost:8080/"
    },
    "id": "4ee112a5",
    "outputId": "41dd6c13-b2f9-42ce-8259-4e60deab7246"
   },
   "outputs": [
    {
     "name": "stdout",
     "output_type": "stream",
     "text": [
      "1/1 [==============================] - 1s 1s/step\n",
      "The predicted lemma for چھڈواوئیے is: چھڈوا\n"
     ]
    }
   ],
   "source": [
    "# Example usage (Actuall lemma ='چھڈوا'):\n",
    "word = 'چھڈواوئیے'\n",
    "predicted_lemma = predict_lemma(word)\n",
    "print(f\"The predicted lemma for {word} is: {predicted_lemma}\")\n"
   ]
  },
  {
   "cell_type": "code",
   "execution_count": 37,
   "id": "785f3d1a",
   "metadata": {
    "colab": {
     "base_uri": "https://localhost:8080/"
    },
    "id": "785f3d1a",
    "outputId": "f8c91e57-dc60-482f-c47d-11a91862c20a"
   },
   "outputs": [
    {
     "name": "stdout",
     "output_type": "stream",
     "text": [
      "1/1 [==============================] - 1s 1s/step\n",
      "The predicted lemma for چوندهيانا is: چوندا\n"
     ]
    }
   ],
   "source": [
    "# Example usage (Actuall lemma ='چوندا'):\n",
    "word = 'چوندهيانا'\n",
    "predicted_lemma = predict_lemma(word)\n",
    "print(f\"The predicted lemma for {word} is: {predicted_lemma}\")\n"
   ]
  },
  {
   "cell_type": "code",
   "execution_count": 38,
   "id": "1d6093f2",
   "metadata": {
    "colab": {
     "base_uri": "https://localhost:8080/"
    },
    "id": "1d6093f2",
    "outputId": "e564afaa-3e69-4614-f388-5b482a265b45"
   },
   "outputs": [
    {
     "name": "stdout",
     "output_type": "stream",
     "text": [
      "1/1 [==============================] - 1s 1s/step\n",
      "The predicted lemma for مچواندیاں is: مچوا\n"
     ]
    }
   ],
   "source": [
    "# Example usage (Actuall lemma ='مچوا'):\n",
    "word = 'مچواندیاں'\n",
    "predicted_lemma = predict_lemma(word)\n",
    "print(f\"The predicted lemma for {word} is: {predicted_lemma}\")"
   ]
  },
  {
   "cell_type": "code",
   "execution_count": 39,
   "id": "2111270e",
   "metadata": {
    "colab": {
     "base_uri": "https://localhost:8080/"
    },
    "id": "2111270e",
    "outputId": "cf4001f9-7a67-4922-dd9c-0c7823340731"
   },
   "outputs": [
    {
     "name": "stdout",
     "output_type": "stream",
     "text": [
      "1/1 [==============================] - 1s 1s/step\n",
      "The predicted lemma for فلاںدیاں is: فلاں\n"
     ]
    }
   ],
   "source": [
    "word = 'فلاںدیاں'\n",
    "predicted_lemma = predict_lemma(word)\n",
    "print(f\"The predicted lemma for {word} is: {predicted_lemma}\")\n"
   ]
  }
 ],
 "metadata": {
  "accelerator": "GPU",
  "colab": {
   "gpuType": "T4",
   "provenance": []
  },
  "kernelspec": {
   "display_name": "Python 3 (ipykernel)",
   "language": "python",
   "name": "python3"
  },
  "language_info": {
   "codemirror_mode": {
    "name": "ipython",
    "version": 3
   },
   "file_extension": ".py",
   "mimetype": "text/x-python",
   "name": "python",
   "nbconvert_exporter": "python",
   "pygments_lexer": "ipython3",
   "version": "3.9.13"
  }
 },
 "nbformat": 4,
 "nbformat_minor": 5
}
